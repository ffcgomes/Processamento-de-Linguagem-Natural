{
 "cells": [
  {
   "cell_type": "markdown",
   "metadata": {
    "id": "h45TpGqL0-m9"
   },
   "source": [
    "#Processamento de Linguagem Natuaral\r\n",
    "##Previsão do tipo da reclamação a partir do texto escrito pelo consumidor\r\n",
    "\r\n",
    "##Disciplina - Aprendizagem de Máquina - Prof. Lucas Gonçalves\r\n",
    "##Aluno - Francisco Flávio Cardoso Gomes"
   ]
  },
  {
   "cell_type": "code",
   "execution_count": 6,
   "metadata": {
    "id": "hJEC_JpJwajz"
   },
   "outputs": [],
   "source": [
    "import numpy as np\n",
    "import pandas as pd\n",
    "from sklearn.model_selection import train_test_split"
   ]
  },
  {
   "cell_type": "markdown",
   "metadata": {
    "id": "1sDj0WNuV0va"
   },
   "source": []
  },
  {
   "cell_type": "code",
   "execution_count": 7,
   "metadata": {
    "colab": {
     "base_uri": "https://localhost:8080/"
    },
    "id": "PhN8zFF0KIbN",
    "outputId": "feae071d-8287-4660-e676-94e8da05953a"
   },
   "outputs": [
    {
     "name": "stdout",
     "output_type": "stream",
     "text": [
      "Drive already mounted at /content/drive; to attempt to forcibly remount, call drive.mount(\"/content/drive\", force_remount=True).\n"
     ]
    }
   ],
   "source": [
    "from google.colab import drive\n",
    "drive.mount('/content/drive')"
   ]
  },
  {
   "cell_type": "code",
   "execution_count": 10,
   "metadata": {
    "colab": {
     "base_uri": "https://localhost:8080/",
     "height": 581
    },
    "id": "1PFItWJ-waj8",
    "outputId": "15b864a0-48fa-4ce3-eba3-42a136373b7c"
   },
   "outputs": [
    {
     "data": {
      "text/html": [
       "<div>\n",
       "<style scoped>\n",
       "    .dataframe tbody tr th:only-of-type {\n",
       "        vertical-align: middle;\n",
       "    }\n",
       "\n",
       "    .dataframe tbody tr th {\n",
       "        vertical-align: top;\n",
       "    }\n",
       "\n",
       "    .dataframe thead th {\n",
       "        text-align: right;\n",
       "    }\n",
       "</style>\n",
       "<table border=\"1\" class=\"dataframe\">\n",
       "  <thead>\n",
       "    <tr style=\"text-align: right;\">\n",
       "      <th></th>\n",
       "      <th>Date received</th>\n",
       "      <th>Product</th>\n",
       "      <th>Sub-product</th>\n",
       "      <th>Issue</th>\n",
       "      <th>Sub-issue</th>\n",
       "      <th>Consumer complaint narrative</th>\n",
       "      <th>Company public response</th>\n",
       "      <th>Company</th>\n",
       "      <th>State</th>\n",
       "      <th>ZIP code</th>\n",
       "      <th>Tags</th>\n",
       "      <th>Consumer consent provided?</th>\n",
       "      <th>Submitted via</th>\n",
       "      <th>Date sent to company</th>\n",
       "      <th>Company response to consumer</th>\n",
       "      <th>Timely response?</th>\n",
       "      <th>Consumer disputed?</th>\n",
       "      <th>Complaint ID</th>\n",
       "    </tr>\n",
       "  </thead>\n",
       "  <tbody>\n",
       "    <tr>\n",
       "      <th>0</th>\n",
       "      <td>2019-09-24</td>\n",
       "      <td>Debt collection</td>\n",
       "      <td>I do not know</td>\n",
       "      <td>Attempts to collect debt not owed</td>\n",
       "      <td>Debt is not yours</td>\n",
       "      <td>transworld systems inc. \\nis trying to collect...</td>\n",
       "      <td>NaN</td>\n",
       "      <td>TRANSWORLD SYSTEMS INC</td>\n",
       "      <td>FL</td>\n",
       "      <td>335XX</td>\n",
       "      <td>NaN</td>\n",
       "      <td>Consent provided</td>\n",
       "      <td>Web</td>\n",
       "      <td>2019-09-24</td>\n",
       "      <td>Closed with explanation</td>\n",
       "      <td>Yes</td>\n",
       "      <td>NaN</td>\n",
       "      <td>3384392</td>\n",
       "    </tr>\n",
       "    <tr>\n",
       "      <th>1</th>\n",
       "      <td>2019-09-19</td>\n",
       "      <td>Credit reporting, credit repair services, or o...</td>\n",
       "      <td>Credit reporting</td>\n",
       "      <td>Incorrect information on your report</td>\n",
       "      <td>Information belongs to someone else</td>\n",
       "      <td>NaN</td>\n",
       "      <td>Company has responded to the consumer and the ...</td>\n",
       "      <td>Experian Information Solutions Inc.</td>\n",
       "      <td>PA</td>\n",
       "      <td>15206</td>\n",
       "      <td>NaN</td>\n",
       "      <td>Consent not provided</td>\n",
       "      <td>Web</td>\n",
       "      <td>2019-09-20</td>\n",
       "      <td>Closed with non-monetary relief</td>\n",
       "      <td>Yes</td>\n",
       "      <td>NaN</td>\n",
       "      <td>3379500</td>\n",
       "    </tr>\n",
       "    <tr>\n",
       "      <th>2</th>\n",
       "      <td>2019-11-08</td>\n",
       "      <td>Debt collection</td>\n",
       "      <td>I do not know</td>\n",
       "      <td>Communication tactics</td>\n",
       "      <td>Frequent or repeated calls</td>\n",
       "      <td>Over the past 2 weeks, I have been receiving e...</td>\n",
       "      <td>NaN</td>\n",
       "      <td>Diversified Consultants, Inc.</td>\n",
       "      <td>NC</td>\n",
       "      <td>275XX</td>\n",
       "      <td>NaN</td>\n",
       "      <td>Consent provided</td>\n",
       "      <td>Web</td>\n",
       "      <td>2019-11-08</td>\n",
       "      <td>Closed with explanation</td>\n",
       "      <td>Yes</td>\n",
       "      <td>NaN</td>\n",
       "      <td>3433198</td>\n",
       "    </tr>\n",
       "    <tr>\n",
       "      <th>3</th>\n",
       "      <td>2019-09-15</td>\n",
       "      <td>Debt collection</td>\n",
       "      <td>Other debt</td>\n",
       "      <td>Attempts to collect debt not owed</td>\n",
       "      <td>Debt was result of identity theft</td>\n",
       "      <td>Pioneer has committed several federal violatio...</td>\n",
       "      <td>NaN</td>\n",
       "      <td>Pioneer Capital Solutions Inc</td>\n",
       "      <td>CA</td>\n",
       "      <td>925XX</td>\n",
       "      <td>NaN</td>\n",
       "      <td>Consent provided</td>\n",
       "      <td>Web</td>\n",
       "      <td>2019-09-15</td>\n",
       "      <td>Closed with explanation</td>\n",
       "      <td>Yes</td>\n",
       "      <td>NaN</td>\n",
       "      <td>3374555</td>\n",
       "    </tr>\n",
       "    <tr>\n",
       "      <th>4</th>\n",
       "      <td>2021-01-24</td>\n",
       "      <td>Credit card or prepaid card</td>\n",
       "      <td>General-purpose credit card or charge card</td>\n",
       "      <td>Problem when making payments</td>\n",
       "      <td>Problem during payment process</td>\n",
       "      <td>NaN</td>\n",
       "      <td>NaN</td>\n",
       "      <td>ENCORE CAPITAL GROUP INC.</td>\n",
       "      <td>OR</td>\n",
       "      <td>97501</td>\n",
       "      <td>NaN</td>\n",
       "      <td>NaN</td>\n",
       "      <td>Web</td>\n",
       "      <td>2021-01-24</td>\n",
       "      <td>Closed with explanation</td>\n",
       "      <td>Yes</td>\n",
       "      <td>NaN</td>\n",
       "      <td>4090602</td>\n",
       "    </tr>\n",
       "  </tbody>\n",
       "</table>\n",
       "</div>"
      ],
      "text/plain": [
       "  Date received  ... Complaint ID\n",
       "0    2019-09-24  ...      3384392\n",
       "1    2019-09-19  ...      3379500\n",
       "2    2019-11-08  ...      3433198\n",
       "3    2019-09-15  ...      3374555\n",
       "4    2021-01-24  ...      4090602\n",
       "\n",
       "[5 rows x 18 columns]"
      ]
     },
     "execution_count": 10,
     "metadata": {
      "tags": []
     },
     "output_type": "execute_result"
    }
   ],
   "source": [
    "data=pd.read_csv('/content/drive/MyDrive/complaints.csv')\r\n",
    "data.head()"
   ]
  },
  {
   "cell_type": "code",
   "execution_count": 11,
   "metadata": {
    "colab": {
     "base_uri": "https://localhost:8080/"
    },
    "id": "lXGcOMT4waj_",
    "outputId": "5dedb4ae-b512-44da-9770-46a78e07bdc8"
   },
   "outputs": [
    {
     "data": {
      "text/plain": [
       "Date received                         0\n",
       "Product                               0\n",
       "Sub-product                      235165\n",
       "Issue                                 0\n",
       "Sub-issue                        598707\n",
       "Consumer complaint narrative    1294836\n",
       "Company public response         1138807\n",
       "Company                               0\n",
       "State                             36141\n",
       "ZIP code                         188156\n",
       "Tags                            1709156\n",
       "Consumer consent provided?       682466\n",
       "Submitted via                         0\n",
       "Date sent to company                  0\n",
       "Company response to consumer          2\n",
       "Timely response?                      0\n",
       "Consumer disputed?              1191207\n",
       "Complaint ID                          0\n",
       "dtype: int64"
      ]
     },
     "execution_count": 11,
     "metadata": {
      "tags": []
     },
     "output_type": "execute_result"
    }
   ],
   "source": [
    "data.isnull().sum()"
   ]
  },
  {
   "cell_type": "code",
   "execution_count": 12,
   "metadata": {
    "id": "_hsw9oKrwaj_"
   },
   "outputs": [],
   "source": [
    "data = data.replace(np.nan, '', regex=True)"
   ]
  },
  {
   "cell_type": "code",
   "execution_count": 13,
   "metadata": {
    "colab": {
     "base_uri": "https://localhost:8080/"
    },
    "id": "ZqTbmFZnwakA",
    "outputId": "3ebe08ee-e4f1-463f-e4eb-1494afa34b54"
   },
   "outputs": [
    {
     "data": {
      "text/plain": [
       "Date received                   0\n",
       "Product                         0\n",
       "Sub-product                     0\n",
       "Issue                           0\n",
       "Sub-issue                       0\n",
       "Consumer complaint narrative    0\n",
       "Company public response         0\n",
       "Company                         0\n",
       "State                           0\n",
       "ZIP code                        0\n",
       "Tags                            0\n",
       "Consumer consent provided?      0\n",
       "Submitted via                   0\n",
       "Date sent to company            0\n",
       "Company response to consumer    0\n",
       "Timely response?                0\n",
       "Consumer disputed?              0\n",
       "Complaint ID                    0\n",
       "dtype: int64"
      ]
     },
     "execution_count": 13,
     "metadata": {
      "tags": []
     },
     "output_type": "execute_result"
    }
   ],
   "source": [
    "data.isnull().sum()"
   ]
  },
  {
   "cell_type": "code",
   "execution_count": 14,
   "metadata": {
    "colab": {
     "base_uri": "https://localhost:8080/"
    },
    "id": "zLtxn43o6tf6",
    "outputId": "8c73dfc4-2154-49a7-c720-57c94f3f5c33"
   },
   "outputs": [
    {
     "data": {
      "text/plain": [
       "(1959680, 18)"
      ]
     },
     "execution_count": 14,
     "metadata": {
      "tags": []
     },
     "output_type": "execute_result"
    }
   ],
   "source": [
    "data.shape"
   ]
  },
  {
   "cell_type": "code",
   "execution_count": 15,
   "metadata": {
    "colab": {
     "base_uri": "https://localhost:8080/"
    },
    "id": "3Q6tO8YRK_0n",
    "outputId": "9d4119e0-4b94-47c2-b9a5-2bfd04115ef7"
   },
   "outputs": [
    {
     "data": {
      "text/plain": [
       "0    Attempts to collect debt not owed Debt is not ...\n",
       "1    Incorrect information on your report Informati...\n",
       "2    Communication tactics Frequent or repeated cal...\n",
       "3    Attempts to collect debt not owed Debt was res...\n",
       "4    Problem when making payments Problem during pa...\n",
       "Name: concat, dtype: object"
      ]
     },
     "execution_count": 15,
     "metadata": {
      "tags": []
     },
     "output_type": "execute_result"
    }
   ],
   "source": [
    "data[\"concat\"] = data[\"Issue\"]+\" \" + data[\"Sub-issue\"] +\" \" +data[\"Consumer complaint narrative\"]\r\n",
    "\r\n",
    "\r\n",
    "data['concat'].head()"
   ]
  },
  {
   "cell_type": "code",
   "execution_count": 16,
   "metadata": {
    "colab": {
     "base_uri": "https://localhost:8080/"
    },
    "id": "ogWAT08ywaj9",
    "outputId": "85ef5172-c389-4fe0-bc29-c5b664c5f2aa"
   },
   "outputs": [
    {
     "data": {
      "text/plain": [
       "Index(['Date received', 'Product', 'Sub-product', 'Issue', 'Sub-issue',\n",
       "       'Consumer complaint narrative', 'Company public response', 'Company',\n",
       "       'State', 'ZIP code', 'Tags', 'Consumer consent provided?',\n",
       "       'Submitted via', 'Date sent to company', 'Company response to consumer',\n",
       "       'Timely response?', 'Consumer disputed?', 'Complaint ID', 'concat'],\n",
       "      dtype='object')"
      ]
     },
     "execution_count": 16,
     "metadata": {
      "tags": []
     },
     "output_type": "execute_result"
    }
   ],
   "source": [
    "data.columns"
   ]
  },
  {
   "cell_type": "code",
   "execution_count": 17,
   "metadata": {
    "id": "MEUrZuMOwaj-"
   },
   "outputs": [],
   "source": [
    "categorias = ['Credit card','Mortgage', 'Student loan','Consumer Loan']"
   ]
  },
  {
   "cell_type": "code",
   "execution_count": 18,
   "metadata": {
    "colab": {
     "base_uri": "https://localhost:8080/",
     "height": 1000
    },
    "id": "N1YOnGEA596h",
    "outputId": "2c22befe-598c-421a-9a66-05f1a4559522"
   },
   "outputs": [
    {
     "data": {
      "text/html": [
       "<div>\n",
       "<style scoped>\n",
       "    .dataframe tbody tr th:only-of-type {\n",
       "        vertical-align: middle;\n",
       "    }\n",
       "\n",
       "    .dataframe tbody tr th {\n",
       "        vertical-align: top;\n",
       "    }\n",
       "\n",
       "    .dataframe thead th {\n",
       "        text-align: right;\n",
       "    }\n",
       "</style>\n",
       "<table border=\"1\" class=\"dataframe\">\n",
       "  <thead>\n",
       "    <tr style=\"text-align: right;\">\n",
       "      <th></th>\n",
       "      <th>Date received</th>\n",
       "      <th>Product</th>\n",
       "      <th>Sub-product</th>\n",
       "      <th>Issue</th>\n",
       "      <th>Sub-issue</th>\n",
       "      <th>Consumer complaint narrative</th>\n",
       "      <th>Company public response</th>\n",
       "      <th>Company</th>\n",
       "      <th>State</th>\n",
       "      <th>ZIP code</th>\n",
       "      <th>Tags</th>\n",
       "      <th>Consumer consent provided?</th>\n",
       "      <th>Submitted via</th>\n",
       "      <th>Date sent to company</th>\n",
       "      <th>Company response to consumer</th>\n",
       "      <th>Timely response?</th>\n",
       "      <th>Consumer disputed?</th>\n",
       "      <th>Complaint ID</th>\n",
       "      <th>concat</th>\n",
       "    </tr>\n",
       "  </thead>\n",
       "  <tbody>\n",
       "    <tr>\n",
       "      <th>31</th>\n",
       "      <td>2019-03-05</td>\n",
       "      <td>Mortgage</td>\n",
       "      <td>Conventional home mortgage</td>\n",
       "      <td>Trouble during payment process</td>\n",
       "      <td></td>\n",
       "      <td>This complaint dates back to last XX/XX/XXXX d...</td>\n",
       "      <td></td>\n",
       "      <td>NATIONSTAR MORTGAGE</td>\n",
       "      <td>FL</td>\n",
       "      <td>339XX</td>\n",
       "      <td></td>\n",
       "      <td>Consent provided</td>\n",
       "      <td>Web</td>\n",
       "      <td>2019-03-11</td>\n",
       "      <td>Closed with explanation</td>\n",
       "      <td>Yes</td>\n",
       "      <td></td>\n",
       "      <td>3170293</td>\n",
       "      <td>Trouble during payment process  This complaint...</td>\n",
       "    </tr>\n",
       "    <tr>\n",
       "      <th>34</th>\n",
       "      <td>2019-07-30</td>\n",
       "      <td>Mortgage</td>\n",
       "      <td>Conventional home mortgage</td>\n",
       "      <td>Trouble during payment process</td>\n",
       "      <td></td>\n",
       "      <td></td>\n",
       "      <td>Company has responded to the consumer and the ...</td>\n",
       "      <td>LoanCare, LLC</td>\n",
       "      <td>MI</td>\n",
       "      <td>48178</td>\n",
       "      <td></td>\n",
       "      <td>Consent not provided</td>\n",
       "      <td>Web</td>\n",
       "      <td>2019-07-30</td>\n",
       "      <td>Closed with explanation</td>\n",
       "      <td>Yes</td>\n",
       "      <td></td>\n",
       "      <td>3323588</td>\n",
       "      <td>Trouble during payment process</td>\n",
       "    </tr>\n",
       "    <tr>\n",
       "      <th>46</th>\n",
       "      <td>2019-11-15</td>\n",
       "      <td>Mortgage</td>\n",
       "      <td>Conventional home mortgage</td>\n",
       "      <td>Closing on a mortgage</td>\n",
       "      <td></td>\n",
       "      <td>We have already tried to contact the company w...</td>\n",
       "      <td></td>\n",
       "      <td>ClosingMark Financial Services, LLC</td>\n",
       "      <td>CO</td>\n",
       "      <td>802XX</td>\n",
       "      <td></td>\n",
       "      <td>Consent provided</td>\n",
       "      <td>Web</td>\n",
       "      <td>2019-11-15</td>\n",
       "      <td>Closed with explanation</td>\n",
       "      <td>Yes</td>\n",
       "      <td></td>\n",
       "      <td>3439091</td>\n",
       "      <td>Closing on a mortgage  We have already tried t...</td>\n",
       "    </tr>\n",
       "    <tr>\n",
       "      <th>55</th>\n",
       "      <td>2021-02-04</td>\n",
       "      <td>Mortgage</td>\n",
       "      <td>Conventional home mortgage</td>\n",
       "      <td>Trouble during payment process</td>\n",
       "      <td></td>\n",
       "      <td></td>\n",
       "      <td></td>\n",
       "      <td>RP FUNDING INCORPORATED</td>\n",
       "      <td>FL</td>\n",
       "      <td>32092</td>\n",
       "      <td></td>\n",
       "      <td></td>\n",
       "      <td>Web</td>\n",
       "      <td>2021-02-04</td>\n",
       "      <td>In progress</td>\n",
       "      <td>Yes</td>\n",
       "      <td></td>\n",
       "      <td>4116068</td>\n",
       "      <td>Trouble during payment process</td>\n",
       "    </tr>\n",
       "    <tr>\n",
       "      <th>57</th>\n",
       "      <td>2018-04-14</td>\n",
       "      <td>Mortgage</td>\n",
       "      <td>Conventional home mortgage</td>\n",
       "      <td>Trouble during payment process</td>\n",
       "      <td></td>\n",
       "      <td>The mortgage company ( Roundpoint Mortgageg ) ...</td>\n",
       "      <td>Company has responded to the consumer and the ...</td>\n",
       "      <td>RoundPoint Mortgage Servicing Corporation</td>\n",
       "      <td>IL</td>\n",
       "      <td>600XX</td>\n",
       "      <td></td>\n",
       "      <td>Consent provided</td>\n",
       "      <td>Web</td>\n",
       "      <td>2018-04-14</td>\n",
       "      <td>Closed with explanation</td>\n",
       "      <td>Yes</td>\n",
       "      <td></td>\n",
       "      <td>2875337</td>\n",
       "      <td>Trouble during payment process  The mortgage c...</td>\n",
       "    </tr>\n",
       "    <tr>\n",
       "      <th>...</th>\n",
       "      <td>...</td>\n",
       "      <td>...</td>\n",
       "      <td>...</td>\n",
       "      <td>...</td>\n",
       "      <td>...</td>\n",
       "      <td>...</td>\n",
       "      <td>...</td>\n",
       "      <td>...</td>\n",
       "      <td>...</td>\n",
       "      <td>...</td>\n",
       "      <td>...</td>\n",
       "      <td>...</td>\n",
       "      <td>...</td>\n",
       "      <td>...</td>\n",
       "      <td>...</td>\n",
       "      <td>...</td>\n",
       "      <td>...</td>\n",
       "      <td>...</td>\n",
       "      <td>...</td>\n",
       "    </tr>\n",
       "    <tr>\n",
       "      <th>1959674</th>\n",
       "      <td>2017-01-19</td>\n",
       "      <td>Student loan</td>\n",
       "      <td>Federal student loan servicing</td>\n",
       "      <td>Dealing with my lender or servicer</td>\n",
       "      <td>Received bad information about my loan</td>\n",
       "      <td>Over the life of my Student Loans through XXXX...</td>\n",
       "      <td></td>\n",
       "      <td>Navient Solutions, LLC.</td>\n",
       "      <td>TX</td>\n",
       "      <td>770XX</td>\n",
       "      <td></td>\n",
       "      <td>Consent provided</td>\n",
       "      <td>Web</td>\n",
       "      <td>2017-01-19</td>\n",
       "      <td>Closed with explanation</td>\n",
       "      <td>Yes</td>\n",
       "      <td>No</td>\n",
       "      <td>2298947</td>\n",
       "      <td>Dealing with my lender or servicer Received ba...</td>\n",
       "    </tr>\n",
       "    <tr>\n",
       "      <th>1959675</th>\n",
       "      <td>2016-07-11</td>\n",
       "      <td>Consumer Loan</td>\n",
       "      <td>Vehicle loan</td>\n",
       "      <td>Managing the loan or lease</td>\n",
       "      <td></td>\n",
       "      <td>I was on automatic payment for my car loan. In...</td>\n",
       "      <td></td>\n",
       "      <td>NISSAN MOTOR ACCEPTANCE CORPORATION</td>\n",
       "      <td>IL</td>\n",
       "      <td>607XX</td>\n",
       "      <td></td>\n",
       "      <td>Consent provided</td>\n",
       "      <td>Web</td>\n",
       "      <td>2016-07-11</td>\n",
       "      <td>Closed with explanation</td>\n",
       "      <td>Yes</td>\n",
       "      <td>No</td>\n",
       "      <td>2007463</td>\n",
       "      <td>Managing the loan or lease  I was on automatic...</td>\n",
       "    </tr>\n",
       "    <tr>\n",
       "      <th>1959677</th>\n",
       "      <td>2015-03-26</td>\n",
       "      <td>Mortgage</td>\n",
       "      <td>FHA mortgage</td>\n",
       "      <td>Loan servicing, payments, escrow account</td>\n",
       "      <td></td>\n",
       "      <td>On XXXX XXXX, 2015, I contacted XXXX XXXX, who...</td>\n",
       "      <td></td>\n",
       "      <td>Finance of America Mortgage LLC</td>\n",
       "      <td>CA</td>\n",
       "      <td>925XX</td>\n",
       "      <td></td>\n",
       "      <td>Consent provided</td>\n",
       "      <td>Web</td>\n",
       "      <td>2015-03-26</td>\n",
       "      <td>Closed with monetary relief</td>\n",
       "      <td>Yes</td>\n",
       "      <td>No</td>\n",
       "      <td>1303324</td>\n",
       "      <td>Loan servicing, payments, escrow account  On X...</td>\n",
       "    </tr>\n",
       "    <tr>\n",
       "      <th>1959678</th>\n",
       "      <td>2015-12-12</td>\n",
       "      <td>Mortgage</td>\n",
       "      <td>Conventional adjustable mortgage (ARM)</td>\n",
       "      <td>Loan servicing, payments, escrow account</td>\n",
       "      <td></td>\n",
       "      <td>I can not get from chase who services my mortg...</td>\n",
       "      <td></td>\n",
       "      <td>JPMORGAN CHASE &amp; CO.</td>\n",
       "      <td>NY</td>\n",
       "      <td>110XX</td>\n",
       "      <td></td>\n",
       "      <td>Consent provided</td>\n",
       "      <td>Web</td>\n",
       "      <td>2015-12-12</td>\n",
       "      <td>Closed with explanation</td>\n",
       "      <td>Yes</td>\n",
       "      <td>No</td>\n",
       "      <td>1694674</td>\n",
       "      <td>Loan servicing, payments, escrow account  I ca...</td>\n",
       "    </tr>\n",
       "    <tr>\n",
       "      <th>1959679</th>\n",
       "      <td>2016-08-09</td>\n",
       "      <td>Credit card</td>\n",
       "      <td></td>\n",
       "      <td>Transaction issue</td>\n",
       "      <td></td>\n",
       "      <td>I made a payment to CITI XXXX Credit Card on X...</td>\n",
       "      <td>Company has responded to the consumer and the ...</td>\n",
       "      <td>CITIBANK, N.A.</td>\n",
       "      <td>WI</td>\n",
       "      <td></td>\n",
       "      <td></td>\n",
       "      <td>Consent provided</td>\n",
       "      <td>Web</td>\n",
       "      <td>2016-08-09</td>\n",
       "      <td>Closed with non-monetary relief</td>\n",
       "      <td>Yes</td>\n",
       "      <td>No</td>\n",
       "      <td>2053487</td>\n",
       "      <td>Transaction issue  I made a payment to CITI XX...</td>\n",
       "    </tr>\n",
       "  </tbody>\n",
       "</table>\n",
       "<p>501025 rows × 19 columns</p>\n",
       "</div>"
      ],
      "text/plain": [
       "        Date received  ...                                             concat\n",
       "31         2019-03-05  ...  Trouble during payment process  This complaint...\n",
       "34         2019-07-30  ...                   Trouble during payment process  \n",
       "46         2019-11-15  ...  Closing on a mortgage  We have already tried t...\n",
       "55         2021-02-04  ...                   Trouble during payment process  \n",
       "57         2018-04-14  ...  Trouble during payment process  The mortgage c...\n",
       "...               ...  ...                                                ...\n",
       "1959674    2017-01-19  ...  Dealing with my lender or servicer Received ba...\n",
       "1959675    2016-07-11  ...  Managing the loan or lease  I was on automatic...\n",
       "1959677    2015-03-26  ...  Loan servicing, payments, escrow account  On X...\n",
       "1959678    2015-12-12  ...  Loan servicing, payments, escrow account  I ca...\n",
       "1959679    2016-08-09  ...  Transaction issue  I made a payment to CITI XX...\n",
       "\n",
       "[501025 rows x 19 columns]"
      ]
     },
     "execution_count": 18,
     "metadata": {
      "tags": []
     },
     "output_type": "execute_result"
    }
   ],
   "source": [
    "data=data.loc[(data['Product'] == categorias[0])| (data['Product'] == categorias[1])| (data['Product'] == categorias[2])| (data['Product'] == categorias[3])]\r\n",
    "data\r\n"
   ]
  },
  {
   "cell_type": "code",
   "execution_count": 19,
   "metadata": {
    "id": "vBvQR7SywakA"
   },
   "outputs": [],
   "source": [
    "data_train = data[['concat','Product']]"
   ]
  },
  {
   "cell_type": "code",
   "execution_count": 20,
   "metadata": {
    "colab": {
     "base_uri": "https://localhost:8080/"
    },
    "id": "gnBoyqI_wakC",
    "outputId": "99e89764-3300-4a49-a543-c29548c78f04"
   },
   "outputs": [
    {
     "data": {
      "text/plain": [
       "31              Mortgage\n",
       "34              Mortgage\n",
       "46              Mortgage\n",
       "55              Mortgage\n",
       "57              Mortgage\n",
       "               ...      \n",
       "1959674     Student loan\n",
       "1959675    Consumer Loan\n",
       "1959677         Mortgage\n",
       "1959678         Mortgage\n",
       "1959679      Credit card\n",
       "Name: Product, Length: 501025, dtype: object"
      ]
     },
     "execution_count": 20,
     "metadata": {
      "tags": []
     },
     "output_type": "execute_result"
    }
   ],
   "source": [
    "X = data_train['concat']\n",
    "y = data_train['Product']\n",
    "y"
   ]
  },
  {
   "cell_type": "code",
   "execution_count": 21,
   "metadata": {
    "id": "ucuBD1p9wakD"
   },
   "outputs": [],
   "source": [
    "X_train,X_test,y_train,y_test = train_test_split(X,y)"
   ]
  },
  {
   "cell_type": "code",
   "execution_count": 22,
   "metadata": {
    "colab": {
     "base_uri": "https://localhost:8080/"
    },
    "id": "ezLArN6ez6kF",
    "outputId": "e10d31ce-749f-432b-e474-a583415e916f"
   },
   "outputs": [
    {
     "data": {
      "text/plain": [
       "1036714           Loan servicing, payments, escrow account  \n",
       "1275281                       Settlement process and costs  \n",
       "564851     Applying for a mortgage or refinancing an exis...\n",
       "1452835                Problems when you are unable to pay  \n",
       "792511                      Trouble during payment process  \n",
       "294018                          Struggling to pay mortgage  \n",
       "1204417           Loan servicing, payments, escrow account  \n",
       "1586930    Billing disputes  I applied and received a car...\n",
       "1650391    Struggling to pay mortgage  Due to the Covid19...\n",
       "942014                      Trouble during payment process  \n",
       "Name: concat, dtype: object"
      ]
     },
     "execution_count": 22,
     "metadata": {
      "tags": []
     },
     "output_type": "execute_result"
    }
   ],
   "source": [
    "X_train[:10]"
   ]
  },
  {
   "cell_type": "code",
   "execution_count": 23,
   "metadata": {
    "colab": {
     "base_uri": "https://localhost:8080/"
    },
    "id": "k-sycdKs0G_H",
    "outputId": "3d4c73c1-f29c-4000-f2bc-8b153df778ed"
   },
   "outputs": [
    {
     "data": {
      "text/plain": [
       "1036714         Mortgage\n",
       "1275281         Mortgage\n",
       "564851          Mortgage\n",
       "1452835    Consumer Loan\n",
       "792511          Mortgage\n",
       "294018          Mortgage\n",
       "1204417         Mortgage\n",
       "1586930      Credit card\n",
       "1650391         Mortgage\n",
       "942014          Mortgage\n",
       "Name: Product, dtype: object"
      ]
     },
     "execution_count": 23,
     "metadata": {
      "tags": []
     },
     "output_type": "execute_result"
    }
   ],
   "source": [
    "y_train[:10]"
   ]
  },
  {
   "cell_type": "markdown",
   "metadata": {
    "id": "C4304YjX0x7o"
   },
   "source": [
    "#Tokenização de texto\r\n",
    "\r\n",
    "##Com scikit-learn Pré-processamento de texto, tokenização e filtragem de palavras irrelevantes estão todos incluídos no CountVectorizer, que cria um dicionário de recursos e transforma documentos em vetores de recursos:"
   ]
  },
  {
   "cell_type": "code",
   "execution_count": 24,
   "metadata": {
    "colab": {
     "base_uri": "https://localhost:8080/"
    },
    "id": "XjS13kGYwakD",
    "outputId": "3d736978-d7fc-4c59-f4fe-3dfb0e14e680"
   },
   "outputs": [
    {
     "data": {
      "text/plain": [
       "(375768, 66791)"
      ]
     },
     "execution_count": 24,
     "metadata": {
      "tags": []
     },
     "output_type": "execute_result"
    }
   ],
   "source": [
    "from sklearn.feature_extraction.text import CountVectorizer\r\n",
    "count_vect = CountVectorizer()\r\n",
    "X_train_counts = count_vect.fit_transform(X_train)\r\n",
    "X_train_counts\r\n",
    "X_train_counts.shape\r\n"
   ]
  },
  {
   "cell_type": "markdown",
   "metadata": {
    "id": "QVY85HET10Gm"
   },
   "source": [
    "##CountVectorizer suporta contagens de N-gramas de palavras ou caracteres consecutivos. Uma vez ajustado, o vetorizador construiu um dicionário de índices de recursos:"
   ]
  },
  {
   "cell_type": "code",
   "execution_count": 25,
   "metadata": {
    "colab": {
     "base_uri": "https://localhost:8080/"
    },
    "id": "cn-gqhjz0haL",
    "outputId": "523a59bf-c3e9-44b9-ce74-1b77cf9d7b15"
   },
   "outputs": [
    {
     "data": {
      "text/plain": [
       "11775"
      ]
     },
     "execution_count": 25,
     "metadata": {
      "tags": []
     },
     "output_type": "execute_result"
    }
   ],
   "source": [
    "count_vect.vocabulary_.get(u'card')"
   ]
  },
  {
   "cell_type": "markdown",
   "metadata": {
    "id": "03u0VUWn1-UV"
   },
   "source": [
    "##O valor do índice de uma palavra no vocabulário está relacionado à sua frequência em todo o corpus de treinamento\r\n",
    "\r\n",
    "##De ocorrências a frequências\r\n",
    "\r\n",
    "##A contagem de ocorrências é um bom começo, mas há um problema: documentos mais longos terão valores médios de contagem mais altos do que documentos mais curtos, embora possam falar sobre os mesmos tópicos. Para evitar essas discrepâncias em potencial, é suficiente dividir o número de ocorrências de cada palavra em um documento pelo número total de palavras no documento: esses novos recursos são chamados de tf para Frequências de termo. Outro refinamento além do tf é reduzir os pesos das palavras que ocorrem em muitos documentos no corpus e, portanto, são menos informativas do que aquelas que ocorrem apenas em uma parte menor do corpus. Essa redução é chamada de tf – idf para “Frequência do termo vezes frequência inversa do documento”. Tanto tf quanto tf – idf podem ser calculados da seguinte maneira usando TfidfTransformer:"
   ]
  },
  {
   "cell_type": "code",
   "execution_count": 26,
   "metadata": {
    "colab": {
     "base_uri": "https://localhost:8080/"
    },
    "id": "MZ1ROgu-2S-U",
    "outputId": "6ac43fcb-7024-402d-d73b-a0f6cf16d811"
   },
   "outputs": [
    {
     "data": {
      "text/plain": [
       "(375768, 66791)"
      ]
     },
     "execution_count": 26,
     "metadata": {
      "tags": []
     },
     "output_type": "execute_result"
    }
   ],
   "source": [
    "from sklearn.feature_extraction.text import TfidfTransformer\r\n",
    "tfidf_transformer = TfidfTransformer()\r\n",
    "X_train_tfidf = tfidf_transformer.fit_transform(X_train_counts)\r\n",
    "X_train_tfidf.shape"
   ]
  },
  {
   "cell_type": "markdown",
   "metadata": {
    "id": "JCIZA60y2kOS"
   },
   "source": [
    "#Treinando um classificador \r\n",
    "\r\n",
    "##Agora que temos nossos recursos, podemos treinar um classificador para tentar prever a categoria de uma postagem. Vamos começar com um classificador Nayve-Bayes, que fornece uma boa base para esta tarefa. O scikit-learn inclui várias variantes desse classificador; o mais adequado para contagem de palavras é a variante multinomial:"
   ]
  },
  {
   "cell_type": "code",
   "execution_count": 27,
   "metadata": {
    "id": "JvLhkC5n2hvC"
   },
   "outputs": [],
   "source": [
    "from sklearn.naive_bayes import MultinomialNB\r\n",
    "clf = MultinomialNB().fit(X_train_tfidf, y_train)"
   ]
  },
  {
   "cell_type": "markdown",
   "metadata": {
    "id": "5wDNpH5q23YG"
   },
   "source": [
    "##Para tentar prever o resultado em um novo documento, precisamos extrair os recursos usando quase a mesma cadeia de extração de recursos de antes. A diferença é que chamamos transform em vez de fit_transform nos transformadores, uma vez que eles já foram ajustados ao conjunto de treinamento:"
   ]
  },
  {
   "cell_type": "code",
   "execution_count": 28,
   "metadata": {
    "colab": {
     "base_uri": "https://localhost:8080/"
    },
    "id": "VlxwZe912zyL",
    "outputId": "b60df674-bc72-4fa2-dd5b-cfb2ecfc79d8"
   },
   "outputs": [
    {
     "name": "stdout",
     "output_type": "stream",
     "text": [
      "'Received bad information about my loan' => Student loan\n",
      "'I did not received my Credict Card' => Credit card\n"
     ]
    }
   ],
   "source": [
    "complaint = ['Received bad information about my loan', 'I did not received my Credict Card']\r\n",
    "X_new_counts = count_vect.transform(complaint)\r\n",
    "X_new_tfidf = tfidf_transformer.transform(X_new_counts)\r\n",
    "\r\n",
    "predicted = clf.predict(X_new_tfidf)\r\n",
    "\r\n",
    "for comp, category in zip(complaint, predicted):\r\n",
    "    print('%r => %s' % (comp, category))"
   ]
  },
  {
   "cell_type": "markdown",
   "metadata": {
    "id": "J_6niy3s5MCu"
   },
   "source": [
    "#Construindo um pipeline\r\n",
    "\r\n",
    "## Para tornar o vectorizer => transformer => classifier mais fácil de trabalhar, o scikit-learn fornece uma classe Pipeline que se comporta como um classificador composto:"
   ]
  },
  {
   "cell_type": "code",
   "execution_count": 29,
   "metadata": {
    "id": "SC04iuBT4loY"
   },
   "outputs": [],
   "source": [
    "from sklearn.pipeline import Pipeline\r\n",
    "text_clf = Pipeline([\r\n",
    "    ('vect', CountVectorizer()),\r\n",
    "    ('tfidf', TfidfTransformer()),\r\n",
    "    ('clf', MultinomialNB()),\r\n",
    "])"
   ]
  },
  {
   "cell_type": "markdown",
   "metadata": {
    "id": "5kGJ2ts65cU3"
   },
   "source": [
    "##Os nomes vect, tfidf e clf (classificador) são arbitrários. Iremos usá-los para realizar o grid search para hiperparâmetros adequados abaixo. Agora podemos treinar o modelo com um único comando:"
   ]
  },
  {
   "cell_type": "code",
   "execution_count": 30,
   "metadata": {
    "colab": {
     "base_uri": "https://localhost:8080/"
    },
    "id": "bZmEkomx5azU",
    "outputId": "da0e10c4-0ec8-4472-b767-3b9631f8c9bd"
   },
   "outputs": [
    {
     "data": {
      "text/plain": [
       "Pipeline(memory=None,\n",
       "         steps=[('vect',\n",
       "                 CountVectorizer(analyzer='word', binary=False,\n",
       "                                 decode_error='strict',\n",
       "                                 dtype=<class 'numpy.int64'>, encoding='utf-8',\n",
       "                                 input='content', lowercase=True, max_df=1.0,\n",
       "                                 max_features=None, min_df=1,\n",
       "                                 ngram_range=(1, 1), preprocessor=None,\n",
       "                                 stop_words=None, strip_accents=None,\n",
       "                                 token_pattern='(?u)\\\\b\\\\w\\\\w+\\\\b',\n",
       "                                 tokenizer=None, vocabulary=None)),\n",
       "                ('tfidf',\n",
       "                 TfidfTransformer(norm='l2', smooth_idf=True,\n",
       "                                  sublinear_tf=False, use_idf=True)),\n",
       "                ('clf',\n",
       "                 MultinomialNB(alpha=1.0, class_prior=None, fit_prior=True))],\n",
       "         verbose=False)"
      ]
     },
     "execution_count": 30,
     "metadata": {
      "tags": []
     },
     "output_type": "execute_result"
    }
   ],
   "source": [
    "text_clf.fit(X_train, y_train)"
   ]
  },
  {
   "cell_type": "markdown",
   "metadata": {
    "id": "vTZq62n55rMu"
   },
   "source": [
    "#Avaliação do desempenho no conjunto de teste\r\n",
    "\r\n"
   ]
  },
  {
   "cell_type": "code",
   "execution_count": 31,
   "metadata": {
    "colab": {
     "base_uri": "https://localhost:8080/"
    },
    "id": "5cnUHPiC5n5k",
    "outputId": "6cdb27bf-494f-47e0-c79d-e2fc1f608247"
   },
   "outputs": [
    {
     "data": {
      "text/plain": [
       "0.9572239475638088"
      ]
     },
     "execution_count": 31,
     "metadata": {
      "tags": []
     },
     "output_type": "execute_result"
    }
   ],
   "source": [
    "predicted = text_clf.predict(X_test)\r\n",
    "np.mean(predicted == y_test)"
   ]
  },
  {
   "cell_type": "markdown",
   "metadata": {
    "id": "ZpBv_tjCJCna"
   },
   "source": [
    "##Buscando melhorar performance com máquina de vetores de suporte linear (SVM), que é amplamente considerada como um dos melhores algoritmos de classificação de texto (embora também seja um pouco mais lenta do que o Nayve-Bayes). Podemos mudar o aluno simplesmente conectando um objeto classificador diferente em nosso pipeline:\r\n"
   ]
  },
  {
   "cell_type": "code",
   "execution_count": 32,
   "metadata": {
    "colab": {
     "base_uri": "https://localhost:8080/"
    },
    "id": "vLGDLXIN591w",
    "outputId": "8713c45e-ca85-4796-a6c1-4b1f35154365"
   },
   "outputs": [
    {
     "data": {
      "text/plain": [
       "0.9485777241990467"
      ]
     },
     "execution_count": 32,
     "metadata": {
      "tags": []
     },
     "output_type": "execute_result"
    }
   ],
   "source": [
    "from sklearn.linear_model import SGDClassifier\r\n",
    "text_clf = Pipeline([\r\n",
    "    ('vect', CountVectorizer()),\r\n",
    "    ('tfidf', TfidfTransformer()),\r\n",
    "    ('clf', SGDClassifier(loss='hinge', penalty='l2',\r\n",
    "                          alpha=1e-3, random_state=42,\r\n",
    "                          max_iter=5, tol=None)),\r\n",
    "])\r\n",
    "\r\n",
    "text_clf.fit(X_train,y_train)\r\n",
    "\r\n",
    "predicted = text_clf.predict(X_test)\r\n",
    "np.mean(predicted == y_test)"
   ]
  },
  {
   "cell_type": "markdown",
   "metadata": {
    "id": "YcLh-hQXLAAO"
   },
   "source": [
    "##O scikit-learn fornece mais utilitários para uma análise de desempenho mais detalhada dos resultados:"
   ]
  },
  {
   "cell_type": "code",
   "execution_count": 33,
   "metadata": {
    "colab": {
     "base_uri": "https://localhost:8080/"
    },
    "id": "N8OqyAmiLHaA",
    "outputId": "97647894-5ada-41db-9b55-ea9f50b5748b"
   },
   "outputs": [
    {
     "name": "stdout",
     "output_type": "stream",
     "text": [
      "               precision    recall  f1-score   support\n",
      "\n",
      "Consumer Loan       0.93      0.76      0.84      7887\n",
      "  Credit card       0.92      0.95      0.93     22247\n",
      "     Mortgage       0.95      0.98      0.97     79920\n",
      " Student loan       1.00      0.88      0.93     15203\n",
      "\n",
      "     accuracy                           0.95    125257\n",
      "    macro avg       0.95      0.89      0.92    125257\n",
      " weighted avg       0.95      0.95      0.95    125257\n",
      "\n"
     ]
    }
   ],
   "source": [
    "from sklearn import metrics\r\n",
    "print(metrics.classification_report(y_test, predicted))"
   ]
  },
  {
   "cell_type": "code",
   "execution_count": 34,
   "metadata": {
    "colab": {
     "base_uri": "https://localhost:8080/"
    },
    "id": "0vNjV8OZLp7c",
    "outputId": "5f2c9671-84fb-449c-ffed-464c23d02cf4"
   },
   "outputs": [
    {
     "data": {
      "text/plain": [
       "array([[ 5986,   184,  1666,    51],\n",
       "       [    0, 21036,  1210,     1],\n",
       "       [    0,  1493, 78421,     6],\n",
       "       [  458,    67,  1305, 13373]])"
      ]
     },
     "execution_count": 34,
     "metadata": {
      "tags": []
     },
     "output_type": "execute_result"
    }
   ],
   "source": [
    "metrics.confusion_matrix(y_test, predicted)"
   ]
  },
  {
   "cell_type": "markdown",
   "metadata": {
    "id": "7fuzIiX2y4HN"
   },
   "source": [
    "##Aplicando Grid Search"
   ]
  },
  {
   "cell_type": "code",
   "execution_count": 35,
   "metadata": {
    "id": "-cSKKTRQLu2s"
   },
   "outputs": [],
   "source": [
    "from sklearn.model_selection import GridSearchCV\r\n",
    "parameters = {\r\n",
    "    'vect__ngram_range': [(1, 1), (1, 2)],\r\n",
    "    'tfidf__use_idf': (True, False),\r\n",
    "    'clf__alpha': (1e-2, 1e-3),\r\n",
    "}"
   ]
  },
  {
   "cell_type": "code",
   "execution_count": 36,
   "metadata": {
    "id": "c775zldIy_6O"
   },
   "outputs": [],
   "source": [
    "gs_clf = GridSearchCV(text_clf, parameters, cv=5, n_jobs=-1)"
   ]
  },
  {
   "cell_type": "markdown",
   "metadata": {
    "id": "MpNl1gFCzQHT"
   },
   "source": [
    "##A instância do Grid Search se comporta como um modelo normal de scikit-learn. Vamos realizar a pesquisa em um subconjunto menor dos dados de treinamento para acelerar o cálculo:"
   ]
  },
  {
   "cell_type": "code",
   "execution_count": 37,
   "metadata": {
    "id": "V5a_d55dzGp-"
   },
   "outputs": [],
   "source": [
    "gs_clf = gs_clf.fit(X_train[:10000], y_train[:10000])\r\n"
   ]
  },
  {
   "cell_type": "code",
   "execution_count": 38,
   "metadata": {
    "colab": {
     "base_uri": "https://localhost:8080/"
    },
    "id": "9cSfcw9V0Hn4",
    "outputId": "59f574d4-a498-4ad3-b606-63567b2aad8d"
   },
   "outputs": [
    {
     "data": {
      "text/plain": [
       "0.9488999999999999"
      ]
     },
     "execution_count": 38,
     "metadata": {
      "tags": []
     },
     "output_type": "execute_result"
    }
   ],
   "source": [
    "gs_clf.best_score_"
   ]
  },
  {
   "cell_type": "code",
   "execution_count": 39,
   "metadata": {
    "colab": {
     "base_uri": "https://localhost:8080/"
    },
    "id": "RICohQc_0Jkk",
    "outputId": "2655ba56-b560-42b9-9c91-f2eb5f116405"
   },
   "outputs": [
    {
     "name": "stdout",
     "output_type": "stream",
     "text": [
      "clf__alpha: 0.001\n",
      "tfidf__use_idf: True\n",
      "vect__ngram_range: (1, 1)\n"
     ]
    }
   ],
   "source": [
    "for param_name in sorted(parameters.keys()):\r\n",
    "    print(\"%s: %r\" % (param_name, gs_clf.best_params_[param_name]))"
   ]
  }
 ],
 "metadata": {
  "colab": {
   "name": "job1_coplaint_consumer_string_concat.ipynb",
   "provenance": []
  },
  "kernelspec": {
   "display_name": "Python 3",
   "language": "python",
   "name": "python3"
  },
  "language_info": {
   "codemirror_mode": {
    "name": "ipython",
    "version": 3
   },
   "file_extension": ".py",
   "mimetype": "text/x-python",
   "name": "python",
   "nbconvert_exporter": "python",
   "pygments_lexer": "ipython3",
   "version": "3.8.5"
  }
 },
 "nbformat": 4,
 "nbformat_minor": 0
}
