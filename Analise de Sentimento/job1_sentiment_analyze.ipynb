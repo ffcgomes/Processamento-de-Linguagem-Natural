{
  "nbformat": 4,
  "nbformat_minor": 0,
  "metadata": {
    "colab": {
      "name": "job1_coplaint_consumer_string_concat-sentiment-analyze.ipynb",
      "provenance": []
    },
    "kernelspec": {
      "display_name": "Python 3",
      "language": "python",
      "name": "python3"
    },
    "language_info": {
      "codemirror_mode": {
        "name": "ipython",
        "version": 3
      },
      "file_extension": ".py",
      "mimetype": "text/x-python",
      "name": "python",
      "nbconvert_exporter": "python",
      "pygments_lexer": "ipython3",
      "version": "3.8.5"
    }
  },
  "cells": [
    {
      "cell_type": "markdown",
      "metadata": {
        "id": "h45TpGqL0-m9"
      },
      "source": [
        "#Processamento de Linguagem Natuaral\r\n",
        "##Previsão do tipo da reclamação a partir do texto escrito pelo consumidor\r\n",
        "\r\n",
        "##Disciplina - Aprendizagem de Máquina - Prof. Lucas Gonçalves\r\n",
        "##Aluno - Francisco Flávio Cardoso Gomes"
      ]
    },
    {
      "cell_type": "code",
      "metadata": {
        "id": "hJEC_JpJwajz"
      },
      "source": [
        "import numpy as np\n",
        "import pandas as pd\n",
        "from sklearn.model_selection import train_test_split"
      ],
      "execution_count": 70,
      "outputs": []
    },
    {
      "cell_type": "markdown",
      "metadata": {
        "id": "1sDj0WNuV0va"
      },
      "source": [
        ""
      ]
    },
    {
      "cell_type": "code",
      "metadata": {
        "id": "PhN8zFF0KIbN"
      },
      "source": [
        "#from google.colab import drive\n",
        "#drive.mount('/content/drive')"
      ],
      "execution_count": 71,
      "outputs": []
    },
    {
      "cell_type": "code",
      "metadata": {
        "colab": {
          "base_uri": "https://localhost:8080/",
          "height": 567
        },
        "id": "1PFItWJ-waj8",
        "outputId": "2b89278d-2fb4-4c3f-ab23-25a3e1974874"
      },
      "source": [
        "data=pd.read_csv('/content/Tweets_Mg.csv')\r\n",
        "data.head()"
      ],
      "execution_count": 72,
      "outputs": [
        {
          "output_type": "execute_result",
          "data": {
            "text/html": [
              "<div>\n",
              "<style scoped>\n",
              "    .dataframe tbody tr th:only-of-type {\n",
              "        vertical-align: middle;\n",
              "    }\n",
              "\n",
              "    .dataframe tbody tr th {\n",
              "        vertical-align: top;\n",
              "    }\n",
              "\n",
              "    .dataframe thead th {\n",
              "        text-align: right;\n",
              "    }\n",
              "</style>\n",
              "<table border=\"1\" class=\"dataframe\">\n",
              "  <thead>\n",
              "    <tr style=\"text-align: right;\">\n",
              "      <th></th>\n",
              "      <th>Unnamed: 0</th>\n",
              "      <th>Created At</th>\n",
              "      <th>Text</th>\n",
              "      <th>Geo Coordinates.latitude</th>\n",
              "      <th>Geo Coordinates.longitude</th>\n",
              "      <th>User Location</th>\n",
              "      <th>Username</th>\n",
              "      <th>User Screen Name</th>\n",
              "      <th>Retweet Count</th>\n",
              "      <th>Classificacao</th>\n",
              "      <th>Observação</th>\n",
              "      <th>Unnamed: 10</th>\n",
              "      <th>Unnamed: 11</th>\n",
              "      <th>Unnamed: 12</th>\n",
              "      <th>Unnamed: 13</th>\n",
              "      <th>Unnamed: 14</th>\n",
              "      <th>Unnamed: 15</th>\n",
              "      <th>Unnamed: 16</th>\n",
              "      <th>Unnamed: 17</th>\n",
              "      <th>Unnamed: 18</th>\n",
              "      <th>Unnamed: 19</th>\n",
              "      <th>Unnamed: 20</th>\n",
              "      <th>Unnamed: 21</th>\n",
              "      <th>Unnamed: 22</th>\n",
              "      <th>Unnamed: 23</th>\n",
              "      <th>Unnamed: 24</th>\n",
              "    </tr>\n",
              "  </thead>\n",
              "  <tbody>\n",
              "    <tr>\n",
              "      <th>0</th>\n",
              "      <td>0</td>\n",
              "      <td>Sun Jan 08 01:22:05 +0000 2017</td>\n",
              "      <td>���⛪ @ Catedral de Santo Antônio - Governador ...</td>\n",
              "      <td>NaN</td>\n",
              "      <td>NaN</td>\n",
              "      <td>Brasil</td>\n",
              "      <td>Leonardo C Schneider</td>\n",
              "      <td>LeoCSchneider</td>\n",
              "      <td>0</td>\n",
              "      <td>Neutro</td>\n",
              "      <td>NaN</td>\n",
              "      <td>NaN</td>\n",
              "      <td>NaN</td>\n",
              "      <td>NaN</td>\n",
              "      <td>NaN</td>\n",
              "      <td>NaN</td>\n",
              "      <td>NaN</td>\n",
              "      <td>NaN</td>\n",
              "      <td>NaN</td>\n",
              "      <td>NaN</td>\n",
              "      <td>NaN</td>\n",
              "      <td>NaN</td>\n",
              "      <td>NaN</td>\n",
              "      <td>NaN</td>\n",
              "      <td>NaN</td>\n",
              "      <td>NaN</td>\n",
              "    </tr>\n",
              "    <tr>\n",
              "      <th>1</th>\n",
              "      <td>1</td>\n",
              "      <td>Sun Jan 08 01:49:01 +0000 2017</td>\n",
              "      <td>� @ Governador Valadares, Minas Gerais https:/...</td>\n",
              "      <td>-41.9333</td>\n",
              "      <td>-18.85</td>\n",
              "      <td>NaN</td>\n",
              "      <td>Wândell</td>\n",
              "      <td>klefnews</td>\n",
              "      <td>0</td>\n",
              "      <td>Neutro</td>\n",
              "      <td>NaN</td>\n",
              "      <td>NaN</td>\n",
              "      <td>NaN</td>\n",
              "      <td>NaN</td>\n",
              "      <td>NaN</td>\n",
              "      <td>NaN</td>\n",
              "      <td>NaN</td>\n",
              "      <td>NaN</td>\n",
              "      <td>NaN</td>\n",
              "      <td>NaN</td>\n",
              "      <td>NaN</td>\n",
              "      <td>NaN</td>\n",
              "      <td>NaN</td>\n",
              "      <td>NaN</td>\n",
              "      <td>NaN</td>\n",
              "      <td>NaN</td>\n",
              "    </tr>\n",
              "    <tr>\n",
              "      <th>2</th>\n",
              "      <td>2</td>\n",
              "      <td>Sun Jan 08 01:01:46 +0000 2017</td>\n",
              "      <td>�� @ Governador Valadares, Minas Gerais https:...</td>\n",
              "      <td>-41.9333</td>\n",
              "      <td>-18.85</td>\n",
              "      <td>NaN</td>\n",
              "      <td>Wândell</td>\n",
              "      <td>klefnews</td>\n",
              "      <td>0</td>\n",
              "      <td>Neutro</td>\n",
              "      <td>NaN</td>\n",
              "      <td>NaN</td>\n",
              "      <td>NaN</td>\n",
              "      <td>NaN</td>\n",
              "      <td>NaN</td>\n",
              "      <td>NaN</td>\n",
              "      <td>NaN</td>\n",
              "      <td>NaN</td>\n",
              "      <td>NaN</td>\n",
              "      <td>NaN</td>\n",
              "      <td>NaN</td>\n",
              "      <td>NaN</td>\n",
              "      <td>NaN</td>\n",
              "      <td>NaN</td>\n",
              "      <td>NaN</td>\n",
              "      <td>NaN</td>\n",
              "    </tr>\n",
              "    <tr>\n",
              "      <th>3</th>\n",
              "      <td>3</td>\n",
              "      <td>Wed Jan 04 21:43:51 +0000 2017</td>\n",
              "      <td>��� https://t.co/BnDsO34qK0</td>\n",
              "      <td>NaN</td>\n",
              "      <td>NaN</td>\n",
              "      <td>NaN</td>\n",
              "      <td>Ana estudando</td>\n",
              "      <td>estudandoconcur</td>\n",
              "      <td>0</td>\n",
              "      <td>Neutro</td>\n",
              "      <td>NaN</td>\n",
              "      <td>NaN</td>\n",
              "      <td>NaN</td>\n",
              "      <td>NaN</td>\n",
              "      <td>NaN</td>\n",
              "      <td>NaN</td>\n",
              "      <td>NaN</td>\n",
              "      <td>NaN</td>\n",
              "      <td>NaN</td>\n",
              "      <td>NaN</td>\n",
              "      <td>NaN</td>\n",
              "      <td>NaN</td>\n",
              "      <td>NaN</td>\n",
              "      <td>NaN</td>\n",
              "      <td>NaN</td>\n",
              "      <td>NaN</td>\n",
              "    </tr>\n",
              "    <tr>\n",
              "      <th>4</th>\n",
              "      <td>4</td>\n",
              "      <td>Mon Jan 09 15:08:21 +0000 2017</td>\n",
              "      <td>��� PSOL vai questionar aumento de vereadores ...</td>\n",
              "      <td>NaN</td>\n",
              "      <td>NaN</td>\n",
              "      <td>NaN</td>\n",
              "      <td>Emily</td>\n",
              "      <td>Milly777</td>\n",
              "      <td>0</td>\n",
              "      <td>Negativo</td>\n",
              "      <td>NaN</td>\n",
              "      <td>NaN</td>\n",
              "      <td>NaN</td>\n",
              "      <td>NaN</td>\n",
              "      <td>NaN</td>\n",
              "      <td>NaN</td>\n",
              "      <td>NaN</td>\n",
              "      <td>NaN</td>\n",
              "      <td>NaN</td>\n",
              "      <td>NaN</td>\n",
              "      <td>NaN</td>\n",
              "      <td>NaN</td>\n",
              "      <td>NaN</td>\n",
              "      <td>NaN</td>\n",
              "      <td>NaN</td>\n",
              "      <td>NaN</td>\n",
              "    </tr>\n",
              "  </tbody>\n",
              "</table>\n",
              "</div>"
            ],
            "text/plain": [
              "   Unnamed: 0                      Created At  ... Unnamed: 23  Unnamed: 24\n",
              "0           0  Sun Jan 08 01:22:05 +0000 2017  ...         NaN          NaN\n",
              "1           1  Sun Jan 08 01:49:01 +0000 2017  ...         NaN          NaN\n",
              "2           2  Sun Jan 08 01:01:46 +0000 2017  ...         NaN          NaN\n",
              "3           3  Wed Jan 04 21:43:51 +0000 2017  ...         NaN          NaN\n",
              "4           4  Mon Jan 09 15:08:21 +0000 2017  ...         NaN          NaN\n",
              "\n",
              "[5 rows x 26 columns]"
            ]
          },
          "metadata": {
            "tags": []
          },
          "execution_count": 72
        }
      ]
    },
    {
      "cell_type": "code",
      "metadata": {
        "colab": {
          "base_uri": "https://localhost:8080/"
        },
        "id": "lXGcOMT4waj_",
        "outputId": "368439b7-96b9-49b6-f969-9f0fc8c15c24"
      },
      "source": [
        "data.isnull().sum()"
      ],
      "execution_count": 73,
      "outputs": [
        {
          "output_type": "execute_result",
          "data": {
            "text/plain": [
              "Unnamed: 0                      0\n",
              "Created At                      0\n",
              "Text                            0\n",
              "Geo Coordinates.latitude     8095\n",
              "Geo Coordinates.longitude    8095\n",
              "User Location                2710\n",
              "Username                        0\n",
              "User Screen Name                0\n",
              "Retweet Count                   0\n",
              "Classificacao                   0\n",
              "Observação                   8198\n",
              "Unnamed: 10                  8199\n",
              "Unnamed: 11                  8199\n",
              "Unnamed: 12                  8199\n",
              "Unnamed: 13                  8199\n",
              "Unnamed: 14                  8199\n",
              "Unnamed: 15                  8199\n",
              "Unnamed: 16                  8199\n",
              "Unnamed: 17                  8199\n",
              "Unnamed: 18                  8199\n",
              "Unnamed: 19                  8199\n",
              "Unnamed: 20                  8199\n",
              "Unnamed: 21                  8199\n",
              "Unnamed: 22                  8199\n",
              "Unnamed: 23                  8199\n",
              "Unnamed: 24                  8199\n",
              "dtype: int64"
            ]
          },
          "metadata": {
            "tags": []
          },
          "execution_count": 73
        }
      ]
    },
    {
      "cell_type": "code",
      "metadata": {
        "id": "_hsw9oKrwaj_"
      },
      "source": [
        "data = data.replace(np.nan, '', regex=True)"
      ],
      "execution_count": 74,
      "outputs": []
    },
    {
      "cell_type": "code",
      "metadata": {
        "colab": {
          "base_uri": "https://localhost:8080/"
        },
        "id": "ZqTbmFZnwakA",
        "outputId": "773b8592-ff9d-4495-e340-c57f7c8f582f"
      },
      "source": [
        "data.isnull().sum()"
      ],
      "execution_count": 75,
      "outputs": [
        {
          "output_type": "execute_result",
          "data": {
            "text/plain": [
              "Unnamed: 0                   0\n",
              "Created At                   0\n",
              "Text                         0\n",
              "Geo Coordinates.latitude     0\n",
              "Geo Coordinates.longitude    0\n",
              "User Location                0\n",
              "Username                     0\n",
              "User Screen Name             0\n",
              "Retweet Count                0\n",
              "Classificacao                0\n",
              "Observação                   0\n",
              "Unnamed: 10                  0\n",
              "Unnamed: 11                  0\n",
              "Unnamed: 12                  0\n",
              "Unnamed: 13                  0\n",
              "Unnamed: 14                  0\n",
              "Unnamed: 15                  0\n",
              "Unnamed: 16                  0\n",
              "Unnamed: 17                  0\n",
              "Unnamed: 18                  0\n",
              "Unnamed: 19                  0\n",
              "Unnamed: 20                  0\n",
              "Unnamed: 21                  0\n",
              "Unnamed: 22                  0\n",
              "Unnamed: 23                  0\n",
              "Unnamed: 24                  0\n",
              "dtype: int64"
            ]
          },
          "metadata": {
            "tags": []
          },
          "execution_count": 75
        }
      ]
    },
    {
      "cell_type": "code",
      "metadata": {
        "colab": {
          "base_uri": "https://localhost:8080/"
        },
        "id": "zLtxn43o6tf6",
        "outputId": "ace94a34-f4f2-4fda-a32a-61ad2792a618"
      },
      "source": [
        "data.shape"
      ],
      "execution_count": 76,
      "outputs": [
        {
          "output_type": "execute_result",
          "data": {
            "text/plain": [
              "(8199, 26)"
            ]
          },
          "metadata": {
            "tags": []
          },
          "execution_count": 76
        }
      ]
    },
    {
      "cell_type": "code",
      "metadata": {
        "colab": {
          "base_uri": "https://localhost:8080/"
        },
        "id": "3Q6tO8YRK_0n",
        "outputId": "ad1a5d16-cb1f-4fdf-e147-a28554b87858"
      },
      "source": [
        "data[\"concat\"] = data[\"Text\"]\r\n",
        "\r\n",
        "data['concat'].head()"
      ],
      "execution_count": 77,
      "outputs": [
        {
          "output_type": "execute_result",
          "data": {
            "text/plain": [
              "0    ���⛪ @ Catedral de Santo Antônio - Governador ...\n",
              "1    � @ Governador Valadares, Minas Gerais https:/...\n",
              "2    �� @ Governador Valadares, Minas Gerais https:...\n",
              "3                          ��� https://t.co/BnDsO34qK0\n",
              "4    ��� PSOL vai questionar aumento de vereadores ...\n",
              "Name: concat, dtype: object"
            ]
          },
          "metadata": {
            "tags": []
          },
          "execution_count": 77
        }
      ]
    },
    {
      "cell_type": "code",
      "metadata": {
        "colab": {
          "base_uri": "https://localhost:8080/"
        },
        "id": "ogWAT08ywaj9",
        "outputId": "30cfa45a-6eeb-46a7-96a2-1b8bbcbfee29"
      },
      "source": [
        "data.columns"
      ],
      "execution_count": 78,
      "outputs": [
        {
          "output_type": "execute_result",
          "data": {
            "text/plain": [
              "Index(['Unnamed: 0', 'Created At', 'Text', 'Geo Coordinates.latitude',\n",
              "       'Geo Coordinates.longitude', 'User Location', 'Username',\n",
              "       'User Screen Name', 'Retweet Count', 'Classificacao', 'Observação',\n",
              "       'Unnamed: 10', 'Unnamed: 11', 'Unnamed: 12', 'Unnamed: 13',\n",
              "       'Unnamed: 14', 'Unnamed: 15', 'Unnamed: 16', 'Unnamed: 17',\n",
              "       'Unnamed: 18', 'Unnamed: 19', 'Unnamed: 20', 'Unnamed: 21',\n",
              "       'Unnamed: 22', 'Unnamed: 23', 'Unnamed: 24', 'concat'],\n",
              "      dtype='object')"
            ]
          },
          "metadata": {
            "tags": []
          },
          "execution_count": 78
        }
      ]
    },
    {
      "cell_type": "code",
      "metadata": {
        "id": "MEUrZuMOwaj-"
      },
      "source": [
        "#data['Classificacao']\n",
        "#sentimentos = ['Neutro','Negativo', 'Positivo']"
      ],
      "execution_count": 79,
      "outputs": []
    },
    {
      "cell_type": "code",
      "metadata": {
        "id": "N1YOnGEA596h"
      },
      "source": [
        "#data=data.loc[(data['Classificacao'] == categorias[0])| (data['Classificacao'] == categorias[1])| (data['Classificacao'] == categorias[2])]\r\n",
        "#data\r\n"
      ],
      "execution_count": 80,
      "outputs": []
    },
    {
      "cell_type": "code",
      "metadata": {
        "id": "vBvQR7SywakA"
      },
      "source": [
        "data_train = data[['concat','Classificacao']]"
      ],
      "execution_count": 81,
      "outputs": []
    },
    {
      "cell_type": "code",
      "metadata": {
        "colab": {
          "base_uri": "https://localhost:8080/"
        },
        "id": "gnBoyqI_wakC",
        "outputId": "60e1a729-71eb-49ff-9361-428072f965a0"
      },
      "source": [
        "X = data_train['concat']\n",
        "y = data_train['Classificacao']\n",
        "y"
      ],
      "execution_count": 82,
      "outputs": [
        {
          "output_type": "execute_result",
          "data": {
            "text/plain": [
              "0         Neutro\n",
              "1         Neutro\n",
              "2         Neutro\n",
              "3         Neutro\n",
              "4       Negativo\n",
              "          ...   \n",
              "8194    Positivo\n",
              "8195    Positivo\n",
              "8196    Positivo\n",
              "8197    Positivo\n",
              "8198    Positivo\n",
              "Name: Classificacao, Length: 8199, dtype: object"
            ]
          },
          "metadata": {
            "tags": []
          },
          "execution_count": 82
        }
      ]
    },
    {
      "cell_type": "code",
      "metadata": {
        "id": "ucuBD1p9wakD"
      },
      "source": [
        "X_train,X_test,y_train,y_test = train_test_split(X,y)"
      ],
      "execution_count": 83,
      "outputs": []
    },
    {
      "cell_type": "code",
      "metadata": {
        "colab": {
          "base_uri": "https://localhost:8080/"
        },
        "id": "ezLArN6ez6kF",
        "outputId": "461c1d6f-c376-484c-f98b-dbca11029fae"
      },
      "source": [
        "X_train[:10]"
      ],
      "execution_count": 84,
      "outputs": [
        {
          "output_type": "execute_result",
          "data": {
            "text/plain": [
              "4944    vc e um doente mental desequilibrado e muito m...\n",
              "898     E governo ainda quer indenizar a família dos b...\n",
              "7494    Homem é preso suspeito de envolvimento com trá...\n",
              "632     CAMBIO FENITOINA SÓDICA DE 100 MG.. POR TEGRET...\n",
              "5943    Betim e Contagem intensificam vacinação contra...\n",
              "2730    RT @brasil_fotos: Mesmo depois de falir o esta...\n",
              "3841    RT @N_Carvalheira: PIMENTEL CURTE DE MONTÃO\\n\\...\n",
              "2954    RT @cyrusxotao: 42- o japão é menor do que o e...\n",
              "2492    RT @AnaPaulaVolei: Mais 2 helicópteros!!A cara...\n",
              "1325    HT Vila Nova-MG 2 Palmeiras 3. Partido donde l...\n",
              "Name: concat, dtype: object"
            ]
          },
          "metadata": {
            "tags": []
          },
          "execution_count": 84
        }
      ]
    },
    {
      "cell_type": "code",
      "metadata": {
        "colab": {
          "base_uri": "https://localhost:8080/"
        },
        "id": "k-sycdKs0G_H",
        "outputId": "979ca830-31aa-4b3b-d375-881124d46380"
      },
      "source": [
        "y_train[:10]"
      ],
      "execution_count": 85,
      "outputs": [
        {
          "output_type": "execute_result",
          "data": {
            "text/plain": [
              "4944    Negativo\n",
              "898       Neutro\n",
              "7494    Positivo\n",
              "632       Neutro\n",
              "5943    Positivo\n",
              "2730    Negativo\n",
              "3841      Neutro\n",
              "2954      Neutro\n",
              "2492    Negativo\n",
              "1325      Neutro\n",
              "Name: Classificacao, dtype: object"
            ]
          },
          "metadata": {
            "tags": []
          },
          "execution_count": 85
        }
      ]
    },
    {
      "cell_type": "markdown",
      "metadata": {
        "id": "C4304YjX0x7o"
      },
      "source": [
        "#Tokenização de texto\r\n",
        "\r\n",
        "##Com scikit-learn Pré-processamento de texto, tokenização e filtragem de palavras irrelevantes estão todos incluídos no CountVectorizer, que cria um dicionário de recursos e transforma documentos em vetores de recursos:"
      ]
    },
    {
      "cell_type": "code",
      "metadata": {
        "colab": {
          "base_uri": "https://localhost:8080/"
        },
        "id": "XjS13kGYwakD",
        "outputId": "7602cd59-b22f-43be-e2c8-0a1ffda6b5ba"
      },
      "source": [
        "from sklearn.feature_extraction.text import CountVectorizer\r\n",
        "count_vect = CountVectorizer()\r\n",
        "X_train_counts = count_vect.fit_transform(X_train)\r\n",
        "X_train_counts\r\n",
        "X_train_counts.shape\r\n"
      ],
      "execution_count": 86,
      "outputs": [
        {
          "output_type": "execute_result",
          "data": {
            "text/plain": [
              "(6149, 10760)"
            ]
          },
          "metadata": {
            "tags": []
          },
          "execution_count": 86
        }
      ]
    },
    {
      "cell_type": "markdown",
      "metadata": {
        "id": "QVY85HET10Gm"
      },
      "source": [
        "##CountVectorizer suporta contagens de N-gramas de palavras ou caracteres consecutivos. Uma vez ajustado, o vetorizador construiu um dicionário de índices de recursos:"
      ]
    },
    {
      "cell_type": "code",
      "metadata": {
        "colab": {
          "base_uri": "https://localhost:8080/"
        },
        "id": "cn-gqhjz0haL",
        "outputId": "ad971f6d-daab-47ff-e8bc-2209ad52ec2c"
      },
      "source": [
        "print(count_vect.vocabulary_.get(u'futebol'))"
      ],
      "execution_count": 104,
      "outputs": [
        {
          "output_type": "stream",
          "text": [
            "4234\n"
          ],
          "name": "stdout"
        }
      ]
    },
    {
      "cell_type": "markdown",
      "metadata": {
        "id": "03u0VUWn1-UV"
      },
      "source": [
        "##O valor do índice de uma palavra no vocabulário está relacionado à sua frequência em todo o corpus de treinamento\r\n",
        "\r\n",
        "##De ocorrências a frequências\r\n",
        "\r\n",
        "##A contagem de ocorrências é um bom começo, mas há um problema: documentos mais longos terão valores médios de contagem mais altos do que documentos mais curtos, embora possam falar sobre os mesmos tópicos. Para evitar essas discrepâncias em potencial, é suficiente dividir o número de ocorrências de cada palavra em um documento pelo número total de palavras no documento: esses novos recursos são chamados de tf para Frequências de termo. Outro refinamento além do tf é reduzir os pesos das palavras que ocorrem em muitos documentos no corpus e, portanto, são menos informativas do que aquelas que ocorrem apenas em uma parte menor do corpus. Essa redução é chamada de tf – idf para “Frequência do termo vezes frequência inversa do documento”. Tanto tf quanto tf – idf podem ser calculados da seguinte maneira usando TfidfTransformer:"
      ]
    },
    {
      "cell_type": "code",
      "metadata": {
        "colab": {
          "base_uri": "https://localhost:8080/"
        },
        "id": "MZ1ROgu-2S-U",
        "outputId": "3df36a20-9a88-4b7c-d7f3-7418f93bf0ad"
      },
      "source": [
        "from sklearn.feature_extraction.text import TfidfTransformer\r\n",
        "tfidf_transformer = TfidfTransformer()\r\n",
        "X_train_tfidf = tfidf_transformer.fit_transform(X_train_counts)\r\n",
        "X_train_tfidf.shape"
      ],
      "execution_count": 88,
      "outputs": [
        {
          "output_type": "execute_result",
          "data": {
            "text/plain": [
              "(6149, 10760)"
            ]
          },
          "metadata": {
            "tags": []
          },
          "execution_count": 88
        }
      ]
    },
    {
      "cell_type": "markdown",
      "metadata": {
        "id": "JCIZA60y2kOS"
      },
      "source": [
        "#Treinando um classificador \r\n",
        "\r\n",
        "##Agora que temos nossos recursos, podemos treinar um classificador para tentar prever a categoria de uma postagem. Vamos começar com um classificador Nayve-Bayes, que fornece uma boa base para esta tarefa. O scikit-learn inclui várias variantes desse classificador; o mais adequado para contagem de palavras é a variante multinomial:"
      ]
    },
    {
      "cell_type": "code",
      "metadata": {
        "id": "JvLhkC5n2hvC"
      },
      "source": [
        "from sklearn.naive_bayes import MultinomialNB\r\n",
        "clf = MultinomialNB().fit(X_train_tfidf, y_train)"
      ],
      "execution_count": 89,
      "outputs": []
    },
    {
      "cell_type": "markdown",
      "metadata": {
        "id": "5wDNpH5q23YG"
      },
      "source": [
        "##Para tentar prever o resultado em um novo documento, precisamos extrair os recursos usando quase a mesma cadeia de extração de recursos de antes. A diferença é que chamamos transform em vez de fit_transform nos transformadores, uma vez que eles já foram ajustados ao conjunto de treinamento:"
      ]
    },
    {
      "cell_type": "code",
      "metadata": {
        "colab": {
          "base_uri": "https://localhost:8080/"
        },
        "id": "VlxwZe912zyL",
        "outputId": "e5fb7d50-1c3c-458f-f435-c3e6b39ebe07"
      },
      "source": [
        "exemplo = ['Eu gosto de nadar', 'Eu odeio jogar futebol']\r\n",
        "X_new_counts = count_vect.transform(exemplo)\r\n",
        "X_new_tfidf = tfidf_transformer.transform(X_new_counts)\r\n",
        "\r\n",
        "predicted = clf.predict(X_new_tfidf)\r\n",
        "\r\n",
        "for comp, category in zip(exemplo, predicted):\r\n",
        "    print('%r => %s' % (comp, category))"
      ],
      "execution_count": 109,
      "outputs": [
        {
          "output_type": "stream",
          "text": [
            "'Eu gosto de nadar' => Neutro\n",
            "'Eu odeio jogar futebol' => Neutro\n"
          ],
          "name": "stdout"
        }
      ]
    },
    {
      "cell_type": "markdown",
      "metadata": {
        "id": "J_6niy3s5MCu"
      },
      "source": [
        "#Construindo um pipeline\r\n",
        "\r\n",
        "## Para tornar o vectorizer => transformer => classifier mais fácil de trabalhar, o scikit-learn fornece uma classe Pipeline que se comporta como um classificador composto:"
      ]
    },
    {
      "cell_type": "code",
      "metadata": {
        "id": "SC04iuBT4loY"
      },
      "source": [
        "from sklearn.pipeline import Pipeline\r\n",
        "text_clf = Pipeline([\r\n",
        "    ('vect', CountVectorizer()),\r\n",
        "    ('tfidf', TfidfTransformer()),\r\n",
        "    ('clf', MultinomialNB()),\r\n",
        "])"
      ],
      "execution_count": 110,
      "outputs": []
    },
    {
      "cell_type": "markdown",
      "metadata": {
        "id": "5kGJ2ts65cU3"
      },
      "source": [
        "##Os nomes vect, tfidf e clf (classificador) são arbitrários. Iremos usá-los para realizar o grid search para hiperparâmetros adequados abaixo. Agora podemos treinar o modelo com um único comando:"
      ]
    },
    {
      "cell_type": "code",
      "metadata": {
        "colab": {
          "base_uri": "https://localhost:8080/"
        },
        "id": "bZmEkomx5azU",
        "outputId": "32562f01-6934-43f8-aa0b-ddb42dab2f63"
      },
      "source": [
        "text_clf.fit(X_train, y_train)"
      ],
      "execution_count": 111,
      "outputs": [
        {
          "output_type": "execute_result",
          "data": {
            "text/plain": [
              "Pipeline(memory=None,\n",
              "         steps=[('vect',\n",
              "                 CountVectorizer(analyzer='word', binary=False,\n",
              "                                 decode_error='strict',\n",
              "                                 dtype=<class 'numpy.int64'>, encoding='utf-8',\n",
              "                                 input='content', lowercase=True, max_df=1.0,\n",
              "                                 max_features=None, min_df=1,\n",
              "                                 ngram_range=(1, 1), preprocessor=None,\n",
              "                                 stop_words=None, strip_accents=None,\n",
              "                                 token_pattern='(?u)\\\\b\\\\w\\\\w+\\\\b',\n",
              "                                 tokenizer=None, vocabulary=None)),\n",
              "                ('tfidf',\n",
              "                 TfidfTransformer(norm='l2', smooth_idf=True,\n",
              "                                  sublinear_tf=False, use_idf=True)),\n",
              "                ('clf',\n",
              "                 MultinomialNB(alpha=1.0, class_prior=None, fit_prior=True))],\n",
              "         verbose=False)"
            ]
          },
          "metadata": {
            "tags": []
          },
          "execution_count": 111
        }
      ]
    },
    {
      "cell_type": "markdown",
      "metadata": {
        "id": "vTZq62n55rMu"
      },
      "source": [
        "#Avaliação do desempenho no conjunto de teste\r\n",
        "\r\n"
      ]
    },
    {
      "cell_type": "code",
      "metadata": {
        "colab": {
          "base_uri": "https://localhost:8080/"
        },
        "id": "5cnUHPiC5n5k",
        "outputId": "64fb178b-c4ab-4d98-915f-fa48c0b2edaa"
      },
      "source": [
        "predicted = text_clf.predict(X_test)\r\n",
        "np.mean(predicted == y_test)"
      ],
      "execution_count": 115,
      "outputs": [
        {
          "output_type": "execute_result",
          "data": {
            "text/plain": [
              "0.9478048780487804"
            ]
          },
          "metadata": {
            "tags": []
          },
          "execution_count": 115
        }
      ]
    },
    {
      "cell_type": "markdown",
      "metadata": {
        "id": "ZpBv_tjCJCna"
      },
      "source": [
        "##Buscando melhorar performance com máquina de vetores de suporte linear (SVM), que é amplamente considerada como um dos melhores algoritmos de classificação de texto (embora também seja um pouco mais lenta do que o Nayve-Bayes). Podemos mudar o aluno simplesmente conectando um objeto classificador diferente em nosso pipeline:\r\n"
      ]
    },
    {
      "cell_type": "code",
      "metadata": {
        "colab": {
          "base_uri": "https://localhost:8080/"
        },
        "id": "vLGDLXIN591w",
        "outputId": "54f5b8cf-412a-477c-825f-d33df319ca75"
      },
      "source": [
        "from sklearn.linear_model import SGDClassifier\r\n",
        "text_clf = Pipeline([\r\n",
        "    ('vect', CountVectorizer()),\r\n",
        "    ('tfidf', TfidfTransformer()),\r\n",
        "    ('clf', SGDClassifier(loss='hinge', penalty='l2',\r\n",
        "                          alpha=1e-3, random_state=42,\r\n",
        "                          max_iter=5, tol=None)),\r\n",
        "])\r\n",
        "\r\n",
        "text_clf.fit(X_train,y_train)\r\n",
        "\r\n",
        "predicted = text_clf.predict(X_test)\r\n",
        "np.mean(predicted == y_test)"
      ],
      "execution_count": 118,
      "outputs": [
        {
          "output_type": "execute_result",
          "data": {
            "text/plain": [
              "0.9541463414634146"
            ]
          },
          "metadata": {
            "tags": []
          },
          "execution_count": 118
        }
      ]
    },
    {
      "cell_type": "markdown",
      "metadata": {
        "id": "YcLh-hQXLAAO"
      },
      "source": [
        "##O scikit-learn fornece mais utilitários para uma análise de desempenho mais detalhada dos resultados:"
      ]
    },
    {
      "cell_type": "code",
      "metadata": {
        "colab": {
          "base_uri": "https://localhost:8080/"
        },
        "id": "N8OqyAmiLHaA",
        "outputId": "7d0ac368-a933-493d-e934-6c1312f63345"
      },
      "source": [
        "from sklearn import metrics\r\n",
        "print(metrics.classification_report(y_test, predicted))"
      ],
      "execution_count": 95,
      "outputs": [
        {
          "output_type": "stream",
          "text": [
            "              precision    recall  f1-score   support\n",
            "\n",
            "    Negativo       0.97      0.93      0.95       595\n",
            "      Neutro       0.89      0.96      0.93       593\n",
            "    Positivo       0.99      0.97      0.98       862\n",
            "\n",
            "    accuracy                           0.95      2050\n",
            "   macro avg       0.95      0.95      0.95      2050\n",
            "weighted avg       0.96      0.95      0.95      2050\n",
            "\n"
          ],
          "name": "stdout"
        }
      ]
    },
    {
      "cell_type": "code",
      "metadata": {
        "colab": {
          "base_uri": "https://localhost:8080/"
        },
        "id": "0vNjV8OZLp7c",
        "outputId": "40db75da-1e1a-4074-d775-80cebdf1a25b"
      },
      "source": [
        "metrics.confusion_matrix(y_test, predicted)"
      ],
      "execution_count": 96,
      "outputs": [
        {
          "output_type": "execute_result",
          "data": {
            "text/plain": [
              "array([[554,  41,   0],\n",
              "       [ 15, 570,   8],\n",
              "       [  3,  27, 832]])"
            ]
          },
          "metadata": {
            "tags": []
          },
          "execution_count": 96
        }
      ]
    },
    {
      "cell_type": "markdown",
      "metadata": {
        "id": "7fuzIiX2y4HN"
      },
      "source": [
        "##Aplicando Grid Search"
      ]
    },
    {
      "cell_type": "code",
      "metadata": {
        "id": "-cSKKTRQLu2s"
      },
      "source": [
        "from sklearn.model_selection import GridSearchCV\r\n",
        "parameters = {\r\n",
        "    'vect__ngram_range': [(1, 1), (1, 2)],\r\n",
        "    'tfidf__use_idf': (True, False),\r\n",
        "    'clf__alpha': (1e-2, 1e-3),\r\n",
        "}"
      ],
      "execution_count": 97,
      "outputs": []
    },
    {
      "cell_type": "code",
      "metadata": {
        "id": "c775zldIy_6O"
      },
      "source": [
        "gs_clf = GridSearchCV(text_clf, parameters, cv=5, n_jobs=-1)"
      ],
      "execution_count": 98,
      "outputs": []
    },
    {
      "cell_type": "markdown",
      "metadata": {
        "id": "MpNl1gFCzQHT"
      },
      "source": [
        "##A instância do Grid Search se comporta como um modelo normal de scikit-learn. Vamos realizar a pesquisa em um subconjunto menor dos dados de treinamento para acelerar o cálculo:"
      ]
    },
    {
      "cell_type": "code",
      "metadata": {
        "id": "V5a_d55dzGp-"
      },
      "source": [
        "gs_clf = gs_clf.fit(X_train, y_train)\r\n"
      ],
      "execution_count": 99,
      "outputs": []
    },
    {
      "cell_type": "code",
      "metadata": {
        "colab": {
          "base_uri": "https://localhost:8080/"
        },
        "id": "9cSfcw9V0Hn4",
        "outputId": "266f6c92-dc57-489c-a816-416abb933576"
      },
      "source": [
        "gs_clf.best_score_"
      ],
      "execution_count": 100,
      "outputs": [
        {
          "output_type": "execute_result",
          "data": {
            "text/plain": [
              "0.947958086090218"
            ]
          },
          "metadata": {
            "tags": []
          },
          "execution_count": 100
        }
      ]
    },
    {
      "cell_type": "code",
      "metadata": {
        "colab": {
          "base_uri": "https://localhost:8080/"
        },
        "id": "RICohQc_0Jkk",
        "outputId": "0e83a695-0b5e-45da-f241-b2b640265511"
      },
      "source": [
        "for param_name in sorted(parameters.keys()):\r\n",
        "    print(\"%s: %r\" % (param_name, gs_clf.best_params_[param_name]))"
      ],
      "execution_count": 101,
      "outputs": [
        {
          "output_type": "stream",
          "text": [
            "clf__alpha: 0.001\n",
            "tfidf__use_idf: True\n",
            "vect__ngram_range: (1, 2)\n"
          ],
          "name": "stdout"
        }
      ]
    },
    {
      "cell_type": "code",
      "metadata": {
        "id": "AG26eh8Zq66T"
      },
      "source": [
        ""
      ],
      "execution_count": 101,
      "outputs": []
    }
  ]
}