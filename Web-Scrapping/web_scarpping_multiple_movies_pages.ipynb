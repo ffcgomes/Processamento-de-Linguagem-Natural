{
  "nbformat": 4,
  "nbformat_minor": 0,
  "metadata": {
    "colab": {
      "name": "web-scarpping-multiple-pages.ipynb",
      "provenance": []
    },
    "kernelspec": {
      "name": "python3",
      "display_name": "Python 3"
    },
    "language_info": {
      "name": "python"
    }
  },
  "cells": [
    {
      "cell_type": "code",
      "metadata": {
        "colab": {
          "base_uri": "https://localhost:8080/"
        },
        "id": "LI6jFU73ba9J",
        "outputId": "71b5aff7-a003-4f15-d849-82781d6ac80c"
      },
      "source": [
        "from bs4 import BeautifulSoup\n",
        "import pandas as pd\n",
        "import csv\n",
        "from time import sleep\n",
        "from random import randint\n",
        "import numpy as np\n",
        "import requests\n",
        "\n",
        "headers = dict()\n",
        "headers[\n",
        "    \"User-Agent\"\n",
        "] = \"Mozilla/5.0 (Windows NT 10.0; Win64; x64) AppleWebKit/537.36 (KHTML, like Gecko) Chrome/74.0.3729.169 Safari/537.36\"\n",
        "\n",
        "titles = []\n",
        "years = []\n",
        "time = []\n",
        "imdb_ratings = []\n",
        "genre = []\n",
        "votes = []\n",
        "pages = np.arange(1, 1001, 50)\n",
        "for page in pages:\n",
        "    url = \"https://www.imdb.com/search/title/?groups=top_1000&start=\" + str(page)\n",
        "    results = requests.get(url, headers=headers)\n",
        "    soup = BeautifulSoup(results.text, \"html.parser\")\n",
        "    movie_div = soup.find_all(\"div\", class_=\"lister-item mode-advanced\")\n",
        "    sleep(randint(2, 10))\n",
        "    print(page)\n",
        "    for movieSection in movie_div:\n",
        "        name = movieSection.h3.a.text\n",
        "        titles.append(name)\n",
        "        year = movieSection.h3.find(\"span\", class_=\"lister-item-year\").text\n",
        "        years.append(year)\n",
        "        ratings = movieSection.strong.text\n",
        "        imdb_ratings.append(ratings)\n",
        "        category = movieSection.find(\"span\", class_=\"genre\").text.strip()\n",
        "        genre.append(category)\n",
        "        runTime = movieSection.find(\"span\", class_=\"runtime\").text\n",
        "        time.append(runTime)\n",
        "        nv = movieSection.find_all(\"span\", attrs={\"name\": \"nv\"})\n",
        "        vote = nv[0].text\n",
        "        votes.append(vote)\n",
        "movies = pd.DataFrame(\n",
        "    {\n",
        "        \"Movie\": titles,\n",
        "        \"Year\": years,\n",
        "        \"RunTime\": time,\n",
        "        \"imdb\": imdb_ratings,\n",
        "        \"Genre\": genre,\n",
        "        \"votes\": votes,\n",
        "    }\n",
        ")\n",
        "\n",
        "# cleaning\n",
        "movies[\"Year\"] = movies[\"Year\"].str.extract(\"(\\\\d+)\").astype(int)\n",
        "movies[\"RunTime\"] = movies[\"RunTime\"].str.replace(\"min\", \"minutes\")\n",
        "movies[\"votes\"] = movies[\"votes\"].str.replace(\",\", \"\").astype(int)\n",
        "\n",
        "print(movies)\n",
        "movies.to_csv(r\"movies.csv\", index=False, header=True)"
      ],
      "execution_count": 2,
      "outputs": [
        {
          "output_type": "stream",
          "text": [
            "1\n",
            "51\n",
            "101\n",
            "151\n",
            "201\n",
            "251\n",
            "301\n",
            "351\n",
            "401\n",
            "451\n",
            "501\n",
            "551\n",
            "601\n",
            "651\n",
            "701\n",
            "751\n",
            "801\n",
            "851\n",
            "901\n",
            "951\n",
            "                            Movie  Year  ...                       Genre   votes\n",
            "0    Zack Snyder's Justice League  2021  ...  Action, Adventure, Fantasy  194943\n",
            "1                  Sound of Metal  2019  ...                Drama, Music   46749\n",
            "2     Judas and the Black Messiah  2021  ...   Biography, Drama, History   27761\n",
            "3      The Trial of the Chicago 7  2020  ...    Drama, History, Thriller  115646\n",
            "4               Avengers: Endgame  2019  ...    Action, Adventure, Drama  841269\n",
            "..                            ...   ...  ...                         ...     ...\n",
            "995           Munna Bhai M.B.B.S.  2003  ...               Comedy, Drama   74479\n",
            "996                    Kai Po Che  2013  ...                Drama, Sport   32943\n",
            "997                     Vizontele  2001  ...               Comedy, Drama   33922\n",
            "998         Nefes: Vatan Sagolsun  2009  ...     Action, Drama, Thriller   32030\n",
            "999          Lage Raho Munna Bhai  2006  ...      Comedy, Drama, Romance   43383\n",
            "\n",
            "[1000 rows x 6 columns]\n"
          ],
          "name": "stdout"
        }
      ]
    }
  ]
}