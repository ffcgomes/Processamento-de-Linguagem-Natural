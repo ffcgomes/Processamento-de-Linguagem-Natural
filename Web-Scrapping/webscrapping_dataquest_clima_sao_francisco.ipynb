{
  "nbformat": 4,
  "nbformat_minor": 0,
  "metadata": {
    "colab": {
      "name": "webscrapping-dataquest-clima-sao-francisco.ipynb",
      "provenance": []
    },
    "kernelspec": {
      "name": "python3",
      "display_name": "Python 3"
    }
  },
  "cells": [
    {
      "cell_type": "markdown",
      "metadata": {
        "id": "1soqbDWIorE4"
      },
      "source": [
        "#Downloading weather data"
      ]
    },
    {
      "cell_type": "code",
      "metadata": {
        "colab": {
          "base_uri": "https://localhost:8080/"
        },
        "id": "GlMqLVJgSXd8",
        "outputId": "1559928a-8fb8-45bc-a932-f67d2f991f09"
      },
      "source": [
        "import requests\n",
        "from bs4 import BeautifulSoup\n",
        "page = requests.get(\"http://forecast.weather.gov/MapClick.php?lat=37.7772&lon=-122.4168\")\n",
        "soup = BeautifulSoup(page.content, 'html.parser')\n",
        "seven_day = soup.find(id=\"seven-day-forecast\")\n",
        "forecast_items = seven_day.find_all(class_=\"tombstone-container\")\n",
        "tonight = forecast_items[0]\n",
        "print(tonight.prettify())"
      ],
      "execution_count": 2,
      "outputs": [
        {
          "output_type": "stream",
          "text": [
            "<div class=\"tombstone-container\">\n",
            " <p class=\"period-name\">\n",
            "  Today\n",
            "  <br/>\n",
            "  <br/>\n",
            " </p>\n",
            " <p>\n",
            "  <img alt=\"Today: Patchy fog before 9am.  Otherwise, mostly cloudy, then gradually becoming sunny, with a high near 59. Light west northwest wind becoming west 5 to 10 mph in the afternoon. \" class=\"forecast-icon\" src=\"DualImage.php?i=fg&amp;j=few\" title=\"Today: Patchy fog before 9am.  Otherwise, mostly cloudy, then gradually becoming sunny, with a high near 59. Light west northwest wind becoming west 5 to 10 mph in the afternoon. \"/>\n",
            " </p>\n",
            " <p class=\"short-desc\">\n",
            "  Patchy Fog\n",
            "  <br/>\n",
            "  then Sunny\n",
            " </p>\n",
            " <p class=\"temp temp-high\">\n",
            "  High: 59 °F\n",
            " </p>\n",
            "</div>\n"
          ],
          "name": "stdout"
        }
      ]
    },
    {
      "cell_type": "markdown",
      "metadata": {
        "id": "ck5xecipoyDc"
      },
      "source": [
        "#Extracting information from the page"
      ]
    },
    {
      "cell_type": "code",
      "metadata": {
        "colab": {
          "base_uri": "https://localhost:8080/"
        },
        "id": "Ya8eLuahn-Tu",
        "outputId": "c7634123-17a7-4280-f9bb-cf8778b71c20"
      },
      "source": [
        "period = tonight.find(class_=\"period-name\").get_text()\n",
        "short_desc = tonight.find(class_=\"short-desc\").get_text()\n",
        "temp = tonight.find(class_=\"temp\").get_text()\n",
        "print(period)\n",
        "print(short_desc)\n",
        "print(temp)"
      ],
      "execution_count": 3,
      "outputs": [
        {
          "output_type": "stream",
          "text": [
            "Today\n",
            "Patchy Fogthen Sunny\n",
            "High: 59 °F\n"
          ],
          "name": "stdout"
        }
      ]
    },
    {
      "cell_type": "code",
      "metadata": {
        "colab": {
          "base_uri": "https://localhost:8080/"
        },
        "id": "HSd6TuScoi19",
        "outputId": "4bb717c3-0f1c-47db-bf85-a677dbe579b0"
      },
      "source": [
        "img = tonight.find(\"img\")\n",
        "desc = img['title']\n",
        "print(desc)"
      ],
      "execution_count": 4,
      "outputs": [
        {
          "output_type": "stream",
          "text": [
            "Today: Patchy fog before 9am.  Otherwise, mostly cloudy, then gradually becoming sunny, with a high near 59. Light west northwest wind becoming west 5 to 10 mph in the afternoon. \n"
          ],
          "name": "stdout"
        }
      ]
    },
    {
      "cell_type": "markdown",
      "metadata": {
        "id": "mInhGlVvotmh"
      },
      "source": [
        "#Extracting all the information from the page\n",
        "Now that we know how to extract each individual piece of information, we can combine our knowledge with css selectors and list comprehensions to extract everything at once.\n",
        "\n",
        "In the below code, we:\n",
        "\n",
        "Select all items with the class period-name inside an item with the class tombstone-container in seven_day.\n",
        "Use a list comprehension to call the get_text method on each BeautifulSoup object."
      ]
    },
    {
      "cell_type": "code",
      "metadata": {
        "colab": {
          "base_uri": "https://localhost:8080/"
        },
        "id": "mRA097MIpGoM",
        "outputId": "307398b4-df9d-4ac0-8310-b84a28564aab"
      },
      "source": [
        "period_tags = seven_day.select(\".tombstone-container .period-name\")\n",
        "periods = [pt.get_text() for pt in period_tags]\n",
        "periods"
      ],
      "execution_count": 7,
      "outputs": [
        {
          "output_type": "execute_result",
          "data": {
            "text/plain": [
              "['Today',\n",
              " 'Tonight',\n",
              " 'Saturday',\n",
              " 'SaturdayNight',\n",
              " 'Sunday',\n",
              " 'SundayNight',\n",
              " 'Monday',\n",
              " 'MondayNight',\n",
              " 'Tuesday']"
            ]
          },
          "metadata": {
            "tags": []
          },
          "execution_count": 7
        }
      ]
    },
    {
      "cell_type": "markdown",
      "metadata": {
        "id": "Uk1N-fseqiKt"
      },
      "source": [
        "As you can see above, our technique gets us each of the period names, in order. We can apply the same technique to get the other 3 fields:"
      ]
    },
    {
      "cell_type": "code",
      "metadata": {
        "colab": {
          "base_uri": "https://localhost:8080/"
        },
        "id": "FJAoqHqSqisO",
        "outputId": "fca03d21-3c92-4b57-f407-0f00d10a3065"
      },
      "source": [
        "short_descs = [sd.get_text() for sd in seven_day.select(\".tombstone-container .short-desc\")]\n",
        "temps = [t.get_text() for t in seven_day.select(\".tombstone-container .temp\")]\n",
        "descs = [d[\"title\"] for d in seven_day.select(\".tombstone-container img\")]\n",
        "print(short_descs,temps,descs)\n"
      ],
      "execution_count": 12,
      "outputs": [
        {
          "output_type": "stream",
          "text": [
            "['Patchy Fogthen Sunny', 'Mostly Clear', 'Sunny', 'Clear', 'Sunny', 'Mostly Clear', 'Mostly Sunny', 'Mostly Clear', 'Sunny'] ['High: 59 °F', 'Low: 46 °F', 'High: 59 °F', 'Low: 45 °F', 'High: 61 °F', 'Low: 46 °F', 'High: 63 °F', 'Low: 48 °F', 'High: 67 °F'] ['Today: Patchy fog before 9am.  Otherwise, mostly cloudy, then gradually becoming sunny, with a high near 59. Light west northwest wind becoming west 5 to 10 mph in the afternoon. ', 'Tonight: Mostly clear, with a low around 46. West wind 6 to 11 mph. ', 'Saturday: Sunny, with a high near 59. West northwest wind 7 to 15 mph, with gusts as high as 20 mph. ', 'Saturday Night: Clear, with a low around 45. West northwest wind 5 to 15 mph, with gusts as high as 18 mph. ', 'Sunday: Sunny, with a high near 61. Light northwest wind becoming west 8 to 13 mph in the afternoon. ', 'Sunday Night: Mostly clear, with a low around 46.', 'Monday: Mostly sunny, with a high near 63.', 'Monday Night: Mostly clear, with a low around 48.', 'Tuesday: Sunny, with a high near 67.']\n"
          ],
          "name": "stdout"
        }
      ]
    },
    {
      "cell_type": "markdown",
      "metadata": {
        "id": "c1WmbYESraCO"
      },
      "source": [
        "#Combining our data into a Pandas Dataframe"
      ]
    },
    {
      "cell_type": "code",
      "metadata": {
        "colab": {
          "base_uri": "https://localhost:8080/",
          "height": 317
        },
        "id": "pAovVCN9rcbH",
        "outputId": "835f3fc6-37ff-4d52-aaec-e4aa0af23255"
      },
      "source": [
        "import pandas as pd\n",
        "weather = pd.DataFrame({\n",
        "    \"period\": periods,\n",
        "    \"short_desc\": short_descs,\n",
        "    \"temp\": temps,\n",
        "    \"desc\":descs\n",
        "})\n",
        "weather"
      ],
      "execution_count": 16,
      "outputs": [
        {
          "output_type": "execute_result",
          "data": {
            "text/html": [
              "<div>\n",
              "<style scoped>\n",
              "    .dataframe tbody tr th:only-of-type {\n",
              "        vertical-align: middle;\n",
              "    }\n",
              "\n",
              "    .dataframe tbody tr th {\n",
              "        vertical-align: top;\n",
              "    }\n",
              "\n",
              "    .dataframe thead th {\n",
              "        text-align: right;\n",
              "    }\n",
              "</style>\n",
              "<table border=\"1\" class=\"dataframe\">\n",
              "  <thead>\n",
              "    <tr style=\"text-align: right;\">\n",
              "      <th></th>\n",
              "      <th>period</th>\n",
              "      <th>short_desc</th>\n",
              "      <th>temp</th>\n",
              "      <th>desc</th>\n",
              "    </tr>\n",
              "  </thead>\n",
              "  <tbody>\n",
              "    <tr>\n",
              "      <th>0</th>\n",
              "      <td>Today</td>\n",
              "      <td>Patchy Fogthen Sunny</td>\n",
              "      <td>High: 59 °F</td>\n",
              "      <td>Today: Patchy fog before 9am.  Otherwise, most...</td>\n",
              "    </tr>\n",
              "    <tr>\n",
              "      <th>1</th>\n",
              "      <td>Tonight</td>\n",
              "      <td>Mostly Clear</td>\n",
              "      <td>Low: 46 °F</td>\n",
              "      <td>Tonight: Mostly clear, with a low around 46. W...</td>\n",
              "    </tr>\n",
              "    <tr>\n",
              "      <th>2</th>\n",
              "      <td>Saturday</td>\n",
              "      <td>Sunny</td>\n",
              "      <td>High: 59 °F</td>\n",
              "      <td>Saturday: Sunny, with a high near 59. West nor...</td>\n",
              "    </tr>\n",
              "    <tr>\n",
              "      <th>3</th>\n",
              "      <td>SaturdayNight</td>\n",
              "      <td>Clear</td>\n",
              "      <td>Low: 45 °F</td>\n",
              "      <td>Saturday Night: Clear, with a low around 45. W...</td>\n",
              "    </tr>\n",
              "    <tr>\n",
              "      <th>4</th>\n",
              "      <td>Sunday</td>\n",
              "      <td>Sunny</td>\n",
              "      <td>High: 61 °F</td>\n",
              "      <td>Sunday: Sunny, with a high near 61. Light nort...</td>\n",
              "    </tr>\n",
              "    <tr>\n",
              "      <th>5</th>\n",
              "      <td>SundayNight</td>\n",
              "      <td>Mostly Clear</td>\n",
              "      <td>Low: 46 °F</td>\n",
              "      <td>Sunday Night: Mostly clear, with a low around 46.</td>\n",
              "    </tr>\n",
              "    <tr>\n",
              "      <th>6</th>\n",
              "      <td>Monday</td>\n",
              "      <td>Mostly Sunny</td>\n",
              "      <td>High: 63 °F</td>\n",
              "      <td>Monday: Mostly sunny, with a high near 63.</td>\n",
              "    </tr>\n",
              "    <tr>\n",
              "      <th>7</th>\n",
              "      <td>MondayNight</td>\n",
              "      <td>Mostly Clear</td>\n",
              "      <td>Low: 48 °F</td>\n",
              "      <td>Monday Night: Mostly clear, with a low around 48.</td>\n",
              "    </tr>\n",
              "    <tr>\n",
              "      <th>8</th>\n",
              "      <td>Tuesday</td>\n",
              "      <td>Sunny</td>\n",
              "      <td>High: 67 °F</td>\n",
              "      <td>Tuesday: Sunny, with a high near 67.</td>\n",
              "    </tr>\n",
              "  </tbody>\n",
              "</table>\n",
              "</div>"
            ],
            "text/plain": [
              "          period  ...                                               desc\n",
              "0          Today  ...  Today: Patchy fog before 9am.  Otherwise, most...\n",
              "1        Tonight  ...  Tonight: Mostly clear, with a low around 46. W...\n",
              "2       Saturday  ...  Saturday: Sunny, with a high near 59. West nor...\n",
              "3  SaturdayNight  ...  Saturday Night: Clear, with a low around 45. W...\n",
              "4         Sunday  ...  Sunday: Sunny, with a high near 61. Light nort...\n",
              "5    SundayNight  ...  Sunday Night: Mostly clear, with a low around 46.\n",
              "6         Monday  ...         Monday: Mostly sunny, with a high near 63.\n",
              "7    MondayNight  ...  Monday Night: Mostly clear, with a low around 48.\n",
              "8        Tuesday  ...               Tuesday: Sunny, with a high near 67.\n",
              "\n",
              "[9 rows x 4 columns]"
            ]
          },
          "metadata": {
            "tags": []
          },
          "execution_count": 16
        }
      ]
    },
    {
      "cell_type": "markdown",
      "metadata": {
        "id": "5yypT7uOr4Hv"
      },
      "source": [
        "We can now do some analysis on the data. For example, we can use a regular expression and the Series.str.extract method to pull out the numeric temperature values:"
      ]
    },
    {
      "cell_type": "code",
      "metadata": {
        "colab": {
          "base_uri": "https://localhost:8080/"
        },
        "id": "2aGBfDalr4zo",
        "outputId": "1b1fd90b-5fc5-4fe0-8c89-77f60c490457"
      },
      "source": [
        "temp_nums = weather[\"temp\"].str.extract(\"(?P<temp_num>d+)\", expand=False)\n",
        "weather[\"temp_num\"] = temp_nums.astype('int')\n",
        "temp_nums"
      ],
      "execution_count": 17,
      "outputs": [
        {
          "output_type": "execute_result",
          "data": {
            "text/plain": [
              "0    NaN\n",
              "1    NaN\n",
              "2    NaN\n",
              "3    NaN\n",
              "4    NaN\n",
              "5    NaN\n",
              "6    NaN\n",
              "7    NaN\n",
              "8    NaN\n",
              "Name: temp_num, dtype: object"
            ]
          },
          "metadata": {
            "tags": []
          },
          "execution_count": 17
        }
      ]
    },
    {
      "cell_type": "markdown",
      "metadata": {
        "id": "RKJCGRZ1sigB"
      },
      "source": [
        "We could then find the mean of all the high and low temperatures:"
      ]
    },
    {
      "cell_type": "code",
      "metadata": {
        "id": "z9Ijsgc7sjZh"
      },
      "source": [
        "weather[\"temp_num\"].mean()"
      ],
      "execution_count": null,
      "outputs": []
    }
  ]
}