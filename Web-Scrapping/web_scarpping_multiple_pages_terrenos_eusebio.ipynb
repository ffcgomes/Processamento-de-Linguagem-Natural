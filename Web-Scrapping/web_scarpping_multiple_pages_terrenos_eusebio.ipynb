{
  "nbformat": 4,
  "nbformat_minor": 0,
  "metadata": {
    "colab": {
      "name": "web-scarpping-multiple-pages-terrenos-eusebio.ipynb",
      "provenance": []
    },
    "kernelspec": {
      "name": "python3",
      "display_name": "Python 3"
    },
    "language_info": {
      "name": "python"
    }
  },
  "cells": [
    {
      "cell_type": "code",
      "metadata": {
        "colab": {
          "base_uri": "https://localhost:8080/"
        },
        "id": "LI6jFU73ba9J",
        "outputId": "952496d0-74ad-4d82-e99b-7b3542ab5966"
      },
      "source": [
        "from bs4 import BeautifulSoup\n",
        "import pandas as pd\n",
        "import csv\n",
        "from time import sleep\n",
        "from random import randint\n",
        "import numpy as np\n",
        "import requests\n",
        "\n",
        "headers = dict()\n",
        "headers[\n",
        "    \"User-Agent\"\n",
        "] = \"Mozilla/5.0 (Windows NT 10.0; Win64; x64) AppleWebKit/537.36 (KHTML, like Gecko) Chrome/74.0.3729.169 Safari/537.36\"\n",
        "\n",
        "descricoes = []\n",
        "tipos = []\n",
        "locais = []\n",
        "valores = []\n",
        "areas = []\n",
        "\n",
        "pages = np.arange(1, 10)\n",
        "\n",
        "for page in pages:\n",
        "  url = \"https://www.cri-ce.com.br/imoveis/a-venda/terreno/eusebio?pagina=\"+ str(page)       \n",
        "  print(url)\n",
        "  results = requests.get(url, headers=headers)\n",
        "  soup = BeautifulSoup(results.text, \"html.parser\")\n",
        "\n",
        "  imovel_div = soup.find_all(\"div\", class_=\"link-all\")\n",
        "  #print(imovel_div)\n",
        "  sleep(randint(2, 10))\n",
        "  #print(page)\n",
        "  for imovelSection in imovel_div:\n",
        "      \n",
        "      localSection = imovelSection.find('div',class_='card-block')\n",
        "      local = localSection.find('h2',class_='card-title').text\n",
        "      locais.append(local)\n",
        "\n",
        "      tipo = localSection.find('h3',class_='card-text').text\n",
        "      tipos.append(tipo)\n",
        "\n",
        "      #descricao = localSection.find('p',class_='description hidden-sm-down').text\n",
        "      #descricoes.append(descricao)\n",
        "      #print(descricao)\n",
        "\n",
        "      valor = imovelSection.find(\"span\", class_='h-money location').text.strip()\n",
        "      valores.append(valor)\n",
        "      \n",
        "      areaSection=imovelSection.find('div',class_='values')\n",
        "      area = areaSection.find(\"span\", class_='h-money').text.strip()\n",
        "      areas.append(area)\n",
        "      #print(tipo)\n",
        "      \n",
        "eusebio = pd.DataFrame(\n",
        "    {\n",
        "        \"Locais\": locais,\n",
        "        \"Tipos\": tipos,\n",
        "        \"Valores\": valores,\n",
        "        \"Areas\": areas\n",
        "    }\n",
        ")\n",
        "\n",
        "# cleaning\n",
        "#movies[\"Year\"] = movies[\"Year\"].str.extract(\"(\\\\d+)\").astype(int)\n",
        "#movies[\"RunTime\"] = movies[\"RunTime\"].str.replace(\"min\", \"minutes\")\n",
        "#movies[\"votes\"] = movies[\"votes\"].str.replace(\",\", \"\").astype(int)\n",
        "\n",
        "eusebio\n",
        "\n",
        "#print(movies)\n",
        "#movies.to_csv(r\"movies.csv\", index=False, header=True)"
      ],
      "execution_count": null,
      "outputs": [
        {
          "output_type": "stream",
          "text": [
            "https://www.cri-ce.com.br/imoveis/a-venda/terreno/eusebio?pagina=1\n",
            "https://www.cri-ce.com.br/imoveis/a-venda/terreno/eusebio?pagina=2\n",
            "https://www.cri-ce.com.br/imoveis/a-venda/terreno/eusebio?pagina=3\n",
            "https://www.cri-ce.com.br/imoveis/a-venda/terreno/eusebio?pagina=4\n"
          ],
          "name": "stdout"
        }
      ]
    },
    {
      "cell_type": "code",
      "metadata": {
        "id": "dgJ3eGU8QmtS"
      },
      "source": [
        ""
      ],
      "execution_count": null,
      "outputs": []
    }
  ]
}