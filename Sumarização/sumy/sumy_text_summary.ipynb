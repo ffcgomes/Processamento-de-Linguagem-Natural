{
  "nbformat": 4,
  "nbformat_minor": 0,
  "metadata": {
    "colab": {
      "name": "sumy-text-summary.ipynb",
      "provenance": []
    },
    "kernelspec": {
      "name": "python3",
      "display_name": "Python 3"
    }
  },
  "cells": [
    {
      "cell_type": "code",
      "metadata": {
        "colab": {
          "base_uri": "https://localhost:8080/"
        },
        "id": "V1DWC2ZH4Wmr",
        "outputId": "32cdbfe3-445a-4688-84d9-40a5db9226fe"
      },
      "source": [
        "!pip install sumy"
      ],
      "execution_count": 1,
      "outputs": [
        {
          "output_type": "stream",
          "text": [
            "  Building wheel for pycountry (setup.py) ... \u001b[?25l\u001b[?25hdone\n",
            "  Created wheel for pycountry: filename=pycountry-20.7.3-py2.py3-none-any.whl size=10746863 sha256=16f3c8914c4d40d16c2f6ec32e192660517860310d32aa9d54b8bef79b2bd3e4\n",
            "  Stored in directory: /root/.cache/pip/wheels/33/4e/a6/be297e6b83567e537bed9df4a93f8590ec01c1acfbcd405348\n",
            "  Building wheel for breadability (setup.py) ... \u001b[?25l\u001b[?25hdone\n",
            "  Created wheel for breadability: filename=breadability-0.1.20-py2.py3-none-any.whl size=21680 sha256=ca45a0e83afdd3c22f3cce8552ac540679a8051b53b45ed878f2c8518b3a7156\n",
            "  Stored in directory: /root/.cache/pip/wheels/5a/4d/a1/510b12c5e65e0b2b3ce539b2af66da0fc57571e528924f4a52\n",
            "Successfully built pycountry breadability\n",
            "Installing collected packages: pycountry, breadability, sumy\n",
            "Successfully installed breadability-0.1.20 pycountry-20.7.3 sumy-0.8.1\n"
          ],
          "name": "stdout"
        }
      ]
    },
    {
      "cell_type": "code",
      "metadata": {
        "id": "wpY_Rdb74udW"
      },
      "source": [
        "from sumy.parsers.plaintext import PlaintextParser"
      ],
      "execution_count": 3,
      "outputs": []
    },
    {
      "cell_type": "code",
      "metadata": {
        "id": "i6H4P9fN41vp"
      },
      "source": [
        "from sumy.nlp.tokenizers import Tokenizer"
      ],
      "execution_count": 4,
      "outputs": []
    },
    {
      "cell_type": "code",
      "metadata": {
        "id": "inH8px-_4-h0"
      },
      "source": [
        "from sumy.summarizers.luhn import LuhnSummarizer"
      ],
      "execution_count": 6,
      "outputs": []
    },
    {
      "cell_type": "code",
      "metadata": {
        "colab": {
          "base_uri": "https://localhost:8080/"
        },
        "id": "YHKMxvHR5-yV",
        "outputId": "31257a04-0d5a-4fa1-caef-f79d18cd5988"
      },
      "source": [
        "f = open(\"/content/PW-123-Vencendo o medo do desconhecido.txt\")\r\n",
        "texto=f.read()\r\n",
        "print(texto)"
      ],
      "execution_count": 32,
      "outputs": [
        {
          "output_type": "stream",
          "text": [
            "VENCENDO O MEDO DO DESCONHECIDO\n",
            "\n",
            "Saudações meus queridíssimos amigos.  Bênçãos para cada um de vocês.  Abençoado seja cada um dos seus esforços em direção ao auto-desenvolvimento, liberação, e auto-realização.Um dos dilemas fundamentais da humanidade é a luta para superar a dualidade entre a vida e a morte.  Deste dilema básico derivam todos os outros problemas, dificuldades, medos e tensões com os quais vocês têm que lidar.  Mesmo que isto se manifeste diretamente como medo da morte, do envelhecimento, ou do desconhecido, é sempre o medo do passar do tempo.  Todos esses medos são manifestações de um mesmo medo básico.\n",
            "A fim de aliviar esses medos, a humanidade criou conceitos filosóficos, espirituais e religiosos.  Mas os conceitos, mesmo que resultem das tentativas de um indivíduo de passar adiante uma experiência real, não aliviarão a verdadeira tensão.  A única forma de realmente superar o medo e reconciliar a grande dualidade é mergulhar no desconhecido imediato que você teme tanto: sua própria psique.\n",
            "Isto soa mais simples do que realmente é.  Explorar os cantos desconhecidos da própria mente não é de forma alguma apenas uma questão de resolver dualidades.  Existem muitas pessoas que perseguem ardentemente o caminho do auto-conhecimento (auto-exploração/auto-exame), e ainda assim fogem de certas facetas de seu ser mais profundo.  A tensão e a perturbação são, então, explicadas com muitas palavras.  Essas pessoas podem mesmo ter feito considerável progresso e resolvido alguns conflitos interiores, mas vastas áreas de sua psique permanecem desconhecidas.\n",
            "Na medida em que você estiver inconsciente do que está acontecendo dentro de si mesmo,  você temerá a passagem do tempo e o “grande desconhecido”.  Quando se é jovem, esses medos podem ser aliviados.  Mas, mais cedo ou mais tarde, todo ser humano será confrontado mais diretamente com o medo da morte.  Quero enfatizar isto de novo: na medida em que você conhece a si mesmo,  você preenche sua vida, realiza seu potencial adormecido.  E nessa mesma medida, a morte não será temida, mas experienciada como um desenvolvimento orgânico.  O desconhecido não mais permanecerá como uma ameaça.\n",
            "O caminho da auto-descoberta incorpora esta luta, meus amigos.  As avenidas de escape, mesmo dentro da estrutura deste trabalho, são muito variadas para serem enumeradas.   Somente pela sua disponibilidade incessante de ver, avaliar, compreender e unificar-se com a verdade implacável é que vocês poderão finalmente vencer.\n",
            "Um dos obstáculos principais à superação do medo da morte é o medo de liberar as barreiras que separam você do sexo oposto.  Enquanto essas barreiras existirem, o medo da morte também estará lá, igualmente forte.  Existe uma conexão muito direta entre estes três medos:  o medo de seu próprio inconsciente, o medo de amar o sexo oposto, e o medo da morte.  A conexão entre os dois primeiros está começando a ser entendida por vocês, mas  a terceira parte da tríade ainda pode ser uma idéia nova.  Entretanto, isto deixará de ser uma teoria aprisionante quando vocês próprios experimentarem a conexão, no esforço de se auto-compreenderem.  Vocês, então, conhecerão a verdade destas palavras.\n",
            "A auto-realização depende de vocês se realizarem como homens ou mulheres, respectivamente.  Em última análise, vocês não podem se realizar sem superar a barreira entre vocês mesmos e o sexo oposto, assim tornando-se verdadeiros homens, ou mulheres.  É claro que existem também outros aspectos da auto-realização.  Vocês podem não ter consciência de certos potenciais que possuem: seus talentos, sua força, suas qualidades inerentes, tais como sua coragem e riqueza de recursos, sua criatividade e mente aberta.  Entretanto, nenhuma dessas qualidades pode realmente desabrochar em seu esplendor inerente a menos que o homem se torne verdadeiramente um homem, e a mulher se torne verdadeiramente uma mulher.  Só pode ser parcial e condicional a auto-realização que acontece quando permanece a barreira que impede a união com um companheiro.  Pois essa barreira indica uma barreira a áreas dentro do self que vocês evitam explorar e compreender.  Ela indica uma resistência a se tornar realmente adulto e uma insistência na infância artificial.  Esse estado parasítico, cuidadosamente nutrido, impede a liberação através da vitória sobre o medo, que é um produto da dualidade.\n",
            "Quando toda a resistência às áreas desconhecidas de si mesmo tiver desaparecido, de forma que a pessoa não tema a si mesma, ela não mais temerá outros seres humanos, incluindo o sexo oposto.  Uma grande liberdade e confiança interiores, nascidas de uma atitude objetiva e realista, liberarão o forte aperto do controle, que impede a pessoa de entrar no estado de ser.  Quando você se realiza, não existe mais uma barreira,  não existe mais o apego ao medo do desconhecido, à falta de confiança em si mesmo e nos outros.  Esse mesmo apego impede você de entrar na corrente cósmica da eternidade, que você experiencia  no mais alto  êxtase de união com um parceiro, e no mais alto êxtase do que vocês chamam de morte.\n",
            "A morte tem muitas faces.  Aqueles que têm medo, agarrando-se firmemente ao seu pequeno eu, podem experienciar a morte como um isolamento e uma separatividade amedrontadores; mas para aqueles que não têm medo de viver plenamente, de se lançar e não mais preservar o pequeno eu, a morte é a glória que a união nesta terra pode ser, e muito mais!  Portanto, a luta pela auto-realização, em última análise, deve significar: Primeiro, a remoção das barreiras entre a sua consciência e as áreas ocultas de sua psique.  Essas áreas ocultas não estão sempre encobertas e inconscientes --  freqüentemente elas estão bem diante de seus olhos, esperando apenas que vocês olhem para elas.  \n",
            "Segundo, a remoção de barreiras entre você e a sua contrapartida, quem quer que seja ele ou ela em determinado momento.\n",
            "E a terceira barreira é entre você e a corrente cósmica.  Sempre que essa corrente o carrega, você experiencia sua justeza.  Neste estágio do seu ser, ela é funcional, é orgânica.   Mas as pessoas que temem a si mesmas, ao outro, e portanto temem a corrente do ser, não confiam na passagem do tempo.    Elas se agarram ao pequeno eu e criam uma parede de fumaça entre sua consciência superior e sua percepção momentânea.\n",
            "Os três impedimentos básicos são: o orgulho, a vontade obstinada e o medo.  Todos os erros, problemas, confusões, distorções, conflitos e mal-entendidos derivam do orgulho, da vontade obstinada e do medo, que se apresentam sob uma forma ou outra.  Essa mesma tríade constitui as barreiras às três avenidas da auto-expansão.  Vamos considerar isto mais detalhadamente.\n",
            "Tomemos primeiramente a barreira entre o consciente e o inconsciente: o orgulho.  Ele obstrui o caminho porque você pode não gostar do que vai encontrar, ao se aventurar no desconhecido dentro de si mesmo.  Pode não ser lisonjeador ou compatível com a sua auto-imagem idealizada.  Mesmo que no final suas descobertas não sejam depreciativas, você terá medo de que elas possam vir a ser.  A importância de ser admirado o levará a adotar padrões e valores de outras pessoas cuja aprovação você busca.  Isto cria um bloqueio de orgulho, uma parede, uma fumaça que embaça o seu interior.\n",
            "A vontade obstinada causa a apreensão de que o que você vai encontrar possa forçá-lo a fazer algo que seu pequeno ego não esteja inclinado a fazer, ou a desistir de algo que ele não queira soltar.  A obstinação quer que o pequeno ego esteja no controle, de forma que você possa se agarrar ao mundo conhecido.\n",
            "O medo barra o caminho quando o orgulho e a obstinação indicam uma falta de confiança; então o medo faz você acreditar que a realidade não merece confiança.  A realidade cósmica está engastada no seu inconsciente profundo, como um fluxo de eventos cósmicos.  Entrar nesse fluxo só pode ser benéfico, trazendo felicidade, realização e significado.  Desconfiar deste fluxo, e portanto agarrar-se àquilo que você já conhece, na crença de que você vai se dar melhor do que arriscando-se a entrar no desconhecido, cria paredes de medo.  É este medo que bloqueia o pleno auto-reconhecimento.\n",
            "A tríade orgulho, obstinação e medo também se aplica à barreira entre a pessoa e o seu companheiro.  O orgulho entra porque você, seja homem ou mulher, teme a aparente impotência – e a conseqüente vergonha – de se render a uma força maior do que o seu pequeno ego.  O amor entre os sexos é uma experiência de humildade e portanto é inimigo do orgulho.  Seu orgulho quer dirigir e controlar; ele não quer se render a força alguma, mesmo que essa força seja altamente desejável.  Mesmo que você e todo o mundo passem a vida desejando amar, ainda assim vocês bloqueiam isso e encontram formas de se comprometer com os direcionamentos contraditórios de sua alma.  A força que os impulsiona para o amor é realmente grande, pois deriva de sua mais profunda natureza.  O impulso que deriva do orgulho, da obstinação e do medo os afasta do amor.\n",
            "A obstinação se opõe ao amor porque quer todo o controle;  recusa-se a desistir.  Parece-lhes – erradamente, é claro – que somente quando obedecem e são governados pelo pequeno ego é que vocês estão seguros. Vocês estão sob a ilusão de que entregar-se à força do amor é entregar-se à avidez  negligente e descuidada, à falta de realismo e à insensatez.  Não é isso.  O realismo, a objetividade, a habilidade de renunciar e a disponibilidade destemida de se entregar ao amor, não só são compatíveis, como também interdependentes.  Vocês bloqueiam a experiência por medo de perder sua dignidade (significando orgulho) e sua singularidade (significando obstinação), quando, na realidade, a verdadeira dignidade e singularidade podem ser obtidas somente quando se desiste do orgulho e da obstinação.\n",
            "O medo de perder a segurança e a própria vida não é diferente do medo que bloqueia a experiência extática de auto-abandono na união com um companheiro.  Alguns de vocês podem ter sentido a semelhança, pelo menos ocasionalmente.\n",
            "A tríade orgulho, obstinação e medo também influencia sua atitude diante da morte.  Morrer, em última análise, significa desistir da auto-direção – e essa entrega, estranho como possa parecer, se assemelha a humilhação.  A fim de evitar a humilhante verdade de que o pequeno eu não é todo-poderoso, vocês se agarram a ele com orgulho e obstinação, assim criando ondas de medo cada vez mais fortes.\n",
            "A fim de resolver essa errônea dualidade, particularmente o conflito entre  desistir do ego e ter a completa posse do ego, eu gostaria de apresentar algo que pode realmente soar como um paradoxo: você se encontra neste caminho tão laborioso de auto-realização somente para ser capaz de se entregar à união com o sexo oposto com a morte?   A verdade é que você não pode desistir com sucesso de algo que você ainda não encontrou, pois você não pode livremente desapegar-se de algo que ainda não possuiu realmente.  Somente quando você puder desistir livremente de sua identidade é que você pode ganhar mais identidade.\n",
            "Agora, se a morte, ou morrer, pode ser uma experiência de êxtase, por que então é percebida de forma tão negra?  Por que não existe um instinto da morte, um anseio pela morte, assim como o instinto de se entregar ao amor?  Por que devemos encontrar a morte sem a ajuda de impulsos instintivos, e por que o ser humano tem que trabalhar tão duramente para vencer a barreira do medo?  Você pode perguntar, por que é que nós, nesta terra, temos que batalhar contra este grande desconhecido?  A princípio, tais questões parecem justificadas e lógicas, mas quando você olhar mais de perto,  vai entender que as coisas precisam ser como são.  Vejam, meus amigos, seria tão fácil desejar a morte por não conseguir lidar com a vida, quando a vida é dolorosa e sem sentido.  Neste estado inacabado, ignorante, de terror cego, vocês todos iriam muito facilmente escapar através da morte, apesar de que, nesse caso, a morte não se apresentaria muito diferente da vida – pois ambas são intrinsecamente a mesma coisa.  A fim de evitar um escape tão destrutivo, o instinto de vida tem que ser muito forte, e só pode operar na medida em que a morte permaneça como algo desconhecido.  Palavras não podem remover seu medo do desconhecido, assim, seu instinto de vida pode impedir que você escolha a morte por motivações negativas e destrutivas.  Isto reforça o impulso de tentar e tentar de novo, até que a vida seja finalmente “dominada” através da compreensão de si mesmo, e portanto da compreensão do universo.  Somente nesse esforço é que finalmente chegará a compreensão interior de que a morte não deve ser temida – ou de que ela é temida somente na exata proporção em que ainda se teme a vida e o amor.  Assim, a aguda separação entre vida e morte e a sua oposição ilusória começam a diminuir.  A verdadeira compreensão destas palavras só pode acontecer quando a vida não for mais uma ameaça da qual você tem que fugir, de forma que o instinto da vida não mais tenha que se opor ao instinto da morte; eles serão um só.  Você, então, não precisará correr à frente do tempo, nem frear seus impulsos\n",
            "Se você olhar para suas atitudes conscientes e inconscientes com relação à passagem do tempo, com relação à vida e à morte, você descobrirá que são idênticas entre si, e idênticas  às suas atitudes mais ocultas e internas com relação ao amor, não importando quais sejam seus desejos conscientes, saudáveis.  Você descobrirá que o medo do desconhecido desempenha um papel em todas essas atitudes.  Você descobrirá que flutua constantemente entre tentar segurar o tempo, num movimento de cãibra medrosa, e lançar-se adiante, porque não consegue suportar o momento.  É realmente muito raro você estar em harmonia com o fluxo cósmico de sua vida,  de sua individualidade.  É isto que significa estar em paz consigo mesmo, estar em harmonia com Deus: não estar segurando o tempo e nem empurrando-o, mas dissolvendo-se no fluxo da vida, em total posse de si mesmo, mas sem medo de abandonar a auto-possessão.  Esta é a experiência superior com a qual você é abençoado e privilegiado quando encontra seu companheiro.  E esta será, em última instância, a experiência de entrar numa nova forma de consciência.\n",
            "A chave de tudo isto repousa na auto-descoberta dos muitos níveis dos quais você ainda foge.  Quando você evita partes de si mesmo, não pode evitar de projetar fora – nos outros e na vida exterior – aquilo que parece uma aterrorizante auto-confrontação.  Assim, a projeção não pode trazer paz e liberação, não importa quanta satisfação temporária e precária ela possa trazer aparentemente.  \n",
            "Você sempre encontra razões e desculpas fora de si mesmo para evitar aquilo que mais precisa ser encarado de frente.  Isto se aplica praticamente a todos os meus amigos, pelo menos ocasionalmente.\n",
            "Mas também, todos vocês fazem progressos, e cada pequeno passo na direção certa finalmente dissolverá as nuvens, as barreiras, entre vocês e a consciência superior, o fluxo eterno.  Essa consciência lhes oferece toda a sabedoria, verdade e retidão que vocês precisam na sua vida diária.  Alguns de vocês ocasionalmente tocaram essa fonte e a experimentaram, mas logo perderam o contato com ela outra vez.  Quando vocês entrarem em contato com esta fonte interior de paz, verdade e êxtase superior, compreenderão profundamente o significado da Criação.\n",
            "A verdade é como o sol, ao redor do qual todos os outros planetas giram, enquanto ele permanece constante e luminoso, apesar de estar freqüentemente coberto por nuvens.  As nuvens são o seu orgulho, a sua obstinação e o seu medo, a sua ignorância e o seu lutar contra o tempo – tentando detê-lo ou correr à sua frente.  Mas nos momentos em que vocês percebem a sua verdade – mesmo que ela pareça banal ou insignificante em termos de desenvolvimento cósmico – as nuvens se dispersam e o sol quente da sua consciência superior regenera sua força e seu bem-estar, sua alegria e sua paz.  Esse sol dentro de vocês está constantemente pronto para aquecer e animar suas vidas,  mas vocês, meus queridos, precisam superar muito mais coisas.  Então, todos os medos, todo o orgulho e toda a obstinação desmoronarão.   Dizer que eles já desmoronaram não vai tornar isso uma realidade.  Se fosse assim, muitas de suas reações, sentimentos e expressões, bem como o efeito que vocês exercem sobre os outros e eles sobre vocês seriam drasticamente diferentes.  \n",
            "Este não é um assunto fácil de se entender.  É preciso mais do que buscar compreender com sua mente, que por si mesma conseguirá muito pouco.  É preciso o entendimento perspicaz de todo o seu ser, que só pode acontecer quando você observar os sentimentos que o impedem de ser feliz neste momento.  Se você olhar para seus desejos, medos e necessidades, para suas apreensões e reações – certas ou erradas – nesse momento e em todos os outros, descobrirá o eterno agora.  Nele você poderá viver sem medo, com verdadeira confiança no desconhecido.  Você não tem que ser perfeito; você é perfeito, num certo sentido, quando pode calmamente encarar, reconhecer e se entender com sua atual imperfeição.\n",
            "Quando você não mais lutar contra o eu, assim abandonando seu orgulho e fingimento, e se dispuser a mudar, assim abandonando sua obstinação, bem como todos os medos de si mesmo, dos outros, da vida, do amor e da morte – tudo isso vai se evaporar como gelo ao sol.\n",
            "\n"
          ],
          "name": "stdout"
        }
      ]
    },
    {
      "cell_type": "code",
      "metadata": {
        "id": "_LSKGDC75GD0"
      },
      "source": [
        "import nltk\r\n",
        "nltk.download('punkt')\r\n",
        "parser = PlaintextParser.from_string(texto, Tokenizer('portuguese'))"
      ],
      "execution_count": 29,
      "outputs": []
    },
    {
      "cell_type": "code",
      "metadata": {
        "id": "3b6bAsGDIwnY"
      },
      "source": [
        "sumarizador = LuhnSummarizer()\r\n",
        "resumo=sumarizador(parser.document,5)"
      ],
      "execution_count": 30,
      "outputs": []
    },
    {
      "cell_type": "code",
      "metadata": {
        "colab": {
          "base_uri": "https://localhost:8080/"
        },
        "id": "Qm4qP7WeI5W4",
        "outputId": "dc054a4f-482a-4de4-90c1-c77447bfc0f1"
      },
      "source": [
        "for sentenca in resumo:\r\n",
        "  print(sentenca)"
      ],
      "execution_count": 31,
      "outputs": [
        {
          "output_type": "stream",
          "text": [
            "Aqueles que têm medo, agarrando-se firmemente ao seu pequeno eu, podem experienciar a morte como um isolamento e uma separatividade amedrontadores; mas para aqueles que não têm medo de viver plenamente, de se lançar e não mais preservar o pequeno eu, a morte é a glória que a união nesta terra pode ser, e muito mais!\n",
            "A fim de resolver essa errônea dualidade, particularmente o conflito entre  desistir do ego e ter a completa posse do ego, eu gostaria de apresentar algo que pode realmente soar como um paradoxo: você se encontra neste caminho tão laborioso de auto-realização somente para ser capaz de se entregar à união com o sexo oposto com a morte?\n",
            "A verdadeira compreensão destas palavras só pode acontecer quando a vida não for mais uma ameaça da qual você tem que fugir, de forma que o instinto da vida não mais tenha que se opor ao instinto da morte; eles serão um só.\n",
            "Você, então, não precisará correr à frente do tempo, nem frear seus impulsos Se você olhar para suas atitudes conscientes e inconscientes com relação à passagem do tempo, com relação à vida e à morte, você descobrirá que são idênticas entre si, e idênticas  às suas atitudes mais ocultas e internas com relação ao amor, não importando quais sejam seus desejos conscientes, saudáveis.\n",
            "Quando você não mais lutar contra o eu, assim abandonando seu orgulho e fingimento, e se dispuser a mudar, assim abandonando sua obstinação, bem como todos os medos de si mesmo, dos outros, da vida, do amor e da morte – tudo isso vai se evaporar como gelo ao sol.\n"
          ],
          "name": "stdout"
        }
      ]
    }
  ]
}