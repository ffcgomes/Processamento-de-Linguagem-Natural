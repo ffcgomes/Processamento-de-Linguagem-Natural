{
 "cells": [
  {
   "cell_type": "code",
   "execution_count": 1,
   "metadata": {},
   "outputs": [
    {
     "name": "stdout",
     "output_type": "stream",
     "text": [
      "Requirement already satisfied: mlflow in c:\\users\\usuario\\anaconda3\\lib\\site-packages (1.13.1)\n",
      "Requirement already satisfied: sqlalchemy in c:\\users\\usuario\\anaconda3\\lib\\site-packages (from mlflow) (1.3.20)\n",
      "Requirement already satisfied: alembic<=1.4.1 in c:\\users\\usuario\\anaconda3\\lib\\site-packages (from mlflow) (1.4.1)\n",
      "Requirement already satisfied: Flask in c:\\users\\usuario\\anaconda3\\lib\\site-packages (from mlflow) (1.1.2)\n",
      "Requirement already satisfied: sqlparse>=0.3.1 in c:\\users\\usuario\\anaconda3\\lib\\site-packages (from mlflow) (0.4.1)\n",
      "Requirement already satisfied: protobuf>=3.6.0 in c:\\users\\usuario\\anaconda3\\lib\\site-packages (from mlflow) (3.14.0)\n",
      "Requirement already satisfied: python-dateutil in c:\\users\\usuario\\anaconda3\\lib\\site-packages (from mlflow) (2.8.1)\n",
      "Requirement already satisfied: docker>=4.0.0 in c:\\users\\usuario\\anaconda3\\lib\\site-packages (from mlflow) (4.4.1)\n",
      "Requirement already satisfied: six>=1.10.0 in c:\\users\\usuario\\anaconda3\\lib\\site-packages (from mlflow) (1.15.0)\n",
      "Requirement already satisfied: pyyaml in c:\\users\\usuario\\anaconda3\\lib\\site-packages (from mlflow) (5.3.1)\n",
      "Requirement already satisfied: click>=7.0 in c:\\users\\usuario\\anaconda3\\lib\\site-packages (from mlflow) (7.1.2)\n",
      "Requirement already satisfied: azure-storage-blob>=12.0.0 in c:\\users\\usuario\\anaconda3\\lib\\site-packages (from mlflow) (12.7.1)\n",
      "Requirement already satisfied: cloudpickle in c:\\users\\usuario\\anaconda3\\lib\\site-packages (from mlflow) (1.6.0)\n",
      "Requirement already satisfied: requests>=2.17.3 in c:\\users\\usuario\\anaconda3\\lib\\site-packages (from mlflow) (2.24.0)\n",
      "Requirement already satisfied: entrypoints in c:\\users\\usuario\\anaconda3\\lib\\site-packages (from mlflow) (0.3)\n",
      "Requirement already satisfied: databricks-cli>=0.8.7 in c:\\users\\usuario\\anaconda3\\lib\\site-packages (from mlflow) (0.14.1)\n",
      "Requirement already satisfied: prometheus-flask-exporter in c:\\users\\usuario\\anaconda3\\lib\\site-packages (from mlflow) (0.18.1)\n",
      "Requirement already satisfied: querystring-parser in c:\\users\\usuario\\anaconda3\\lib\\site-packages (from mlflow) (1.2.4)\n",
      "Requirement already satisfied: numpy in c:\\users\\usuario\\anaconda3\\lib\\site-packages (from mlflow) (1.19.2)\n",
      "Requirement already satisfied: pandas in c:\\users\\usuario\\anaconda3\\lib\\site-packages (from mlflow) (1.1.3)\n",
      "Requirement already satisfied: gitpython>=2.1.0 in c:\\users\\usuario\\anaconda3\\lib\\site-packages (from mlflow) (3.1.12)\n",
      "Requirement already satisfied: waitress; platform_system == \"Windows\" in c:\\users\\usuario\\anaconda3\\lib\\site-packages (from mlflow) (1.4.4)\n",
      "Requirement already satisfied: Mako in c:\\users\\usuario\\anaconda3\\lib\\site-packages (from alembic<=1.4.1->mlflow) (1.1.4)\n",
      "Requirement already satisfied: python-editor>=0.3 in c:\\users\\usuario\\anaconda3\\lib\\site-packages (from alembic<=1.4.1->mlflow) (1.0.4)\n",
      "Requirement already satisfied: Werkzeug>=0.15 in c:\\users\\usuario\\anaconda3\\lib\\site-packages (from Flask->mlflow) (1.0.1)\n",
      "Requirement already satisfied: Jinja2>=2.10.1 in c:\\users\\usuario\\anaconda3\\lib\\site-packages (from Flask->mlflow) (2.11.2)\n",
      "Requirement already satisfied: itsdangerous>=0.24 in c:\\users\\usuario\\anaconda3\\lib\\site-packages (from Flask->mlflow) (1.1.0)\n",
      "Requirement already satisfied: pywin32==227; sys_platform == \"win32\" in c:\\users\\usuario\\anaconda3\\lib\\site-packages (from docker>=4.0.0->mlflow) (227)\n",
      "Requirement already satisfied: websocket-client>=0.32.0 in c:\\users\\usuario\\anaconda3\\lib\\site-packages (from docker>=4.0.0->mlflow) (0.57.0)\n",
      "Requirement already satisfied: msrest>=0.6.18 in c:\\users\\usuario\\anaconda3\\lib\\site-packages (from azure-storage-blob>=12.0.0->mlflow) (0.6.21)\n",
      "Requirement already satisfied: cryptography>=2.1.4 in c:\\users\\usuario\\anaconda3\\lib\\site-packages (from azure-storage-blob>=12.0.0->mlflow) (3.1.1)\n",
      "Requirement already satisfied: azure-core<2.0.0,>=1.10.0 in c:\\users\\usuario\\anaconda3\\lib\\site-packages (from azure-storage-blob>=12.0.0->mlflow) (1.10.0)\n",
      "Requirement already satisfied: certifi>=2017.4.17 in c:\\users\\usuario\\anaconda3\\lib\\site-packages (from requests>=2.17.3->mlflow) (2020.6.20)\n",
      "Requirement already satisfied: idna<3,>=2.5 in c:\\users\\usuario\\anaconda3\\lib\\site-packages (from requests>=2.17.3->mlflow) (2.10)\n",
      "Requirement already satisfied: chardet<4,>=3.0.2 in c:\\users\\usuario\\anaconda3\\lib\\site-packages (from requests>=2.17.3->mlflow) (3.0.4)\n",
      "Requirement already satisfied: urllib3!=1.25.0,!=1.25.1,<1.26,>=1.21.1 in c:\\users\\usuario\\anaconda3\\lib\\site-packages (from requests>=2.17.3->mlflow) (1.25.11)\n",
      "Requirement already satisfied: tabulate>=0.7.7 in c:\\users\\usuario\\anaconda3\\lib\\site-packages (from databricks-cli>=0.8.7->mlflow) (0.8.7)\n",
      "Requirement already satisfied: prometheus-client in c:\\users\\usuario\\anaconda3\\lib\\site-packages (from prometheus-flask-exporter->mlflow) (0.8.0)\n",
      "Requirement already satisfied: pytz>=2017.2 in c:\\users\\usuario\\anaconda3\\lib\\site-packages (from pandas->mlflow) (2020.1)\n",
      "Requirement already satisfied: gitdb<5,>=4.0.1 in c:\\users\\usuario\\anaconda3\\lib\\site-packages (from gitpython>=2.1.0->mlflow) (4.0.5)\n",
      "Requirement already satisfied: MarkupSafe>=0.9.2 in c:\\users\\usuario\\anaconda3\\lib\\site-packages (from Mako->alembic<=1.4.1->mlflow) (1.1.1)\n",
      "Requirement already satisfied: isodate>=0.6.0 in c:\\users\\usuario\\anaconda3\\lib\\site-packages (from msrest>=0.6.18->azure-storage-blob>=12.0.0->mlflow) (0.6.0)\n",
      "Requirement already satisfied: requests-oauthlib>=0.5.0 in c:\\users\\usuario\\anaconda3\\lib\\site-packages (from msrest>=0.6.18->azure-storage-blob>=12.0.0->mlflow) (1.3.0)\n",
      "Requirement already satisfied: cffi!=1.11.3,>=1.8 in c:\\users\\usuario\\anaconda3\\lib\\site-packages (from cryptography>=2.1.4->azure-storage-blob>=12.0.0->mlflow) (1.14.3)\n",
      "Requirement already satisfied: smmap<4,>=3.0.1 in c:\\users\\usuario\\anaconda3\\lib\\site-packages (from gitdb<5,>=4.0.1->gitpython>=2.1.0->mlflow) (3.0.5)\n",
      "Requirement already satisfied: oauthlib>=3.0.0 in c:\\users\\usuario\\anaconda3\\lib\\site-packages (from requests-oauthlib>=0.5.0->msrest>=0.6.18->azure-storage-blob>=12.0.0->mlflow) (3.1.0)\n",
      "Requirement already satisfied: pycparser in c:\\users\\usuario\\anaconda3\\lib\\site-packages (from cffi!=1.11.3,>=1.8->cryptography>=2.1.4->azure-storage-blob>=12.0.0->mlflow) (2.20)\n"
     ]
    }
   ],
   "source": [
    "!pip install mlflow"
   ]
  },
  {
   "cell_type": "code",
   "execution_count": 2,
   "metadata": {},
   "outputs": [],
   "source": [
    "import os\n",
    "import warnings\n",
    "import sys\n",
    "\n",
    "import pandas as pd\n",
    "import numpy as np\n",
    "from sklearn.metrics import mean_squared_error, mean_absolute_error, r2_score\n",
    "from sklearn.model_selection import train_test_split\n",
    "from sklearn.linear_model import ElasticNet\n",
    "from urllib.parse import urlparse\n",
    "import mlflow\n",
    "import mlflow.sklearn\n",
    "\n",
    "import logging"
   ]
  },
  {
   "cell_type": "code",
   "execution_count": null,
   "metadata": {},
   "outputs": [],
   "source": []
  }
 ],
 "metadata": {
  "kernelspec": {
   "display_name": "Python 3",
   "language": "python",
   "name": "python3"
  },
  "language_info": {
   "codemirror_mode": {
    "name": "ipython",
    "version": 3
   },
   "file_extension": ".py",
   "mimetype": "text/x-python",
   "name": "python",
   "nbconvert_exporter": "python",
   "pygments_lexer": "ipython3",
   "version": "3.8.5"
  }
 },
 "nbformat": 4,
 "nbformat_minor": 4
}
